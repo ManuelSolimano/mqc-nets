{
 "cells": [
  {
   "cell_type": "markdown",
   "metadata": {},
   "source": [
    "In this notebook I try and test different I/O methods to read fits files to load the spectra. I also look a good way to subsample the spectra."
   ]
  },
  {
   "cell_type": "code",
   "execution_count": 10,
   "metadata": {},
   "outputs": [],
   "source": [
    "import numpy as np\n",
    "import fitsio\n",
    "from fitsio import FITS, FITSHDR\n",
    "from astropy.table import Table\n",
    "import matplotlib.pyplot as plt\n",
    "%matplotlib inline"
   ]
  },
  {
   "cell_type": "code",
   "execution_count": 15,
   "metadata": {},
   "outputs": [
    {
     "name": "stderr",
     "output_type": "stream",
     "text": [
      "testNonStandardKeyValue (fitsio.test.TestWarnings) ... ok\n",
      "\n",
      "----------------------------------------------------------------------\n",
      "Ran 1 test in 0.003s\n",
      "\n",
      "OK\n",
      "testAsciiTableWriteRead (fitsio.test.TestReadWrite) ... ok\n",
      "testBz2Read (fitsio.test.TestReadWrite) ... ok\n",
      "testChecksum (fitsio.test.TestReadWrite) ... ok\n",
      "testExtVer (fitsio.test.TestReadWrite) ... ok\n",
      "testGZIPTileCompressedWriteRead (fitsio.test.TestReadWrite) ... ok\n",
      "testGZWriteRead (fitsio.test.TestReadWrite) ... ok\n",
      "testHCompressTileCompressedWriteRead (fitsio.test.TestReadWrite) ... ok\n",
      "testHeaderWriteRead (fitsio.test.TestReadWrite) ... ok\n",
      "testImageSlice (fitsio.test.TestReadWrite) ... ok\n",
      "testImageWriteRead (fitsio.test.TestReadWrite) ... ok\n",
      "testImageWriteReadFromDims (fitsio.test.TestReadWrite) ... ok\n",
      "testImageWriteReadFromDimsChunks (fitsio.test.TestReadWrite) ... ok\n",
      "testLowerUpper (fitsio.test.TestReadWrite) ... ok\n",
      "testMoveByName (fitsio.test.TestReadWrite) ... ok\n",
      "testPLIOTileCompressedWriteRead (fitsio.test.TestReadWrite) ... ok\n",
      "testReadRaw (fitsio.test.TestReadWrite) ... ok\n",
      "testRiceTileCompressedWriteRead (fitsio.test.TestReadWrite) ... ok\n",
      "testSlice (fitsio.test.TestReadWrite) ... ok\n",
      "testTableAppend (fitsio.test.TestReadWrite) ... ok\n",
      "testTableInsertColumn (fitsio.test.TestReadWrite) ... ok\n",
      "testTableIter (fitsio.test.TestReadWrite) ... ok\n",
      "testTableSubsets (fitsio.test.TestReadWrite) ... ok\n",
      "testTableWriteDictOfArrays (fitsio.test.TestReadWrite) ... ok\n",
      "testTableWriteDictOfArraysScratch (fitsio.test.TestReadWrite) ... ok\n",
      "testTableWriteDictOfArraysVar (fitsio.test.TestReadWrite) ... ok\n",
      "testTableWriteListOfArrays (fitsio.test.TestReadWrite) ... ok\n",
      "testTableWriteListOfArraysScratch (fitsio.test.TestReadWrite) ... ok\n",
      "testTableWriteListOfArraysVar (fitsio.test.TestReadWrite) ... ok\n",
      "testTableWriteRead (fitsio.test.TestReadWrite) ... ok\n",
      "testTrimStrings (fitsio.test.TestReadWrite) ... ok\n",
      "testVariableLengthColumns (fitsio.test.TestReadWrite) ... ok\n",
      "\n",
      "----------------------------------------------------------------------\n",
      "Ran 31 tests in 0.645s\n",
      "\n",
      "OK\n"
     ]
    }
   ],
   "source": [
    "# Check fitsio was properly installed\n",
    "fitsio.test.test()"
   ]
  },
  {
   "cell_type": "code",
   "execution_count": 63,
   "metadata": {},
   "outputs": [
    {
     "name": "stdout",
     "output_type": "stream",
     "text": [
      "CPU times: user 84 ms, sys: 15 µs, total: 84 ms\n",
      "Wall time: 85.7 ms\n"
     ]
    }
   ],
   "source": [
    "%%time \n",
    "filename = 'data/spectra1000/spec-4216-55477-0204.fits'\n",
    "data = np.array(Table.read(filename, hdu=1)['loglam','flux'])\n",
    "# Astropy unified fits io"
   ]
  },
  {
   "cell_type": "code",
   "execution_count": 64,
   "metadata": {},
   "outputs": [
    {
     "name": "stdout",
     "output_type": "stream",
     "text": [
      "CPU times: user 21.2 ms, sys: 25 µs, total: 21.3 ms\n",
      "Wall time: 21.1 ms\n"
     ]
    }
   ],
   "source": [
    "%%time\n",
    "filename = 'data/spectra1000/spec-4216-55477-0234.fits'\n",
    "data = fitsio.read(filename, columns=['loglam','flux'])\n",
    "# Fitio input utility"
   ]
  },
  {
   "cell_type": "markdown",
   "metadata": {},
   "source": [
    "Apparently, the ```fitsio``` library is a little faster. Also, it returns a numpy array directly, rather than a heavy astropy Table"
   ]
  },
  {
   "cell_type": "markdown",
   "metadata": {},
   "source": [
    "------------------------\n",
    "Guess: loading the ```loglam``` column is unnecessary because it's always the same array. We need to verify this."
   ]
  },
  {
   "cell_type": "code",
   "execution_count": 48,
   "metadata": {},
   "outputs": [
    {
     "name": "stdout",
     "output_type": "stream",
     "text": [
      "3.5587 4.0168 4582\n",
      "3.5522 4.0141 4620\n",
      "3.5521 4.0148 4628\n",
      "3.5511 4.0145 4635\n",
      "3.5522 4.0141 4620\n",
      "3.5597 4.0163 4567\n",
      "3.5582 4.0165 4584\n",
      "3.5517 4.0143 4627\n",
      "3.5574 4.0153 4580\n",
      "3.5521 4.0139 4619\n"
     ]
    }
   ],
   "source": [
    "from glob import glob\n",
    "filelist = glob('data/spectra1000/*.fits')\n",
    "            \n",
    "for file in filelist[:10]: # Loop first 10 files\n",
    "    lam = fitsio.read(file, ext=1, columns='loglam')\n",
    "    loglams.append(lam.size)\n",
    "    print(lam.min(), lam.max(), lam.size)"
   ]
  },
  {
   "cell_type": "markdown",
   "metadata": {},
   "source": [
    "Clearly, I was wrong. Every file has its own length and the wavelength limits are not the same"
   ]
  },
  {
   "cell_type": "markdown",
   "metadata": {},
   "source": [
    "Now let's try downsampling the spectrum (because 4000 points would need too much memory and training will be slow)"
   ]
  },
  {
   "cell_type": "code",
   "execution_count": 84,
   "metadata": {},
   "outputs": [
    {
     "name": "stdout",
     "output_type": "stream",
     "text": [
      "623 µs ± 13.3 µs per loop (mean ± std. dev. of 7 runs, 1000 loops each)\n",
      "3.5520999431610107 4.0137076809202465\n"
     ]
    },
    {
     "data": {
      "image/png": "[encoded data removed]",
      "text/plain": [
       "<Figure size 432x288 with 1 Axes>"
      ]
     },
     "metadata": {
      "needs_background": "light"
     },
     "output_type": "display_data"
    }
   ],
   "source": [
    "from scipy.signal import resample\n",
    "\n",
    "data = fitsio.read(filename, ext=1, columns=['loglam','flux'])\n",
    "# WATCH OUT: The endianness of the arrays must be set to little endian\n",
    "# before using scipy.signal subsample\n",
    "loglam = np.asarray(data['loglam'], dtype=np.dtype('<f4'))\n",
    "flux = np.asarray(data['flux'], dtype=np.dtype('<f4'))\n",
    "\n",
    "# This is very easy, but behind the scenes is using an\n",
    "# FFT so I don't know if this will scale reasonably\n",
    "%timeit sub_flux, sub_loglam = resample(flux, 503, t=loglam)\n",
    "plt.plot(sub_loglam, sub_flux)\n",
    "print(sub_loglam.min(), sub_loglam.max())"
   ]
  },
  {
   "cell_type": "code",
   "execution_count": 73,
   "metadata": {},
   "outputs": [
    {
     "data": {
      "text/plain": [
       "'>'"
      ]
     },
     "execution_count": 73,
     "metadata": {},
     "output_type": "execute_result"
    }
   ],
   "source": [
    "data['flux'].dtype.byteorder"
   ]
  },
  {
   "cell_type": "code",
   "execution_count": 78,
   "metadata": {},
   "outputs": [
    {
     "data": {
      "text/plain": [
       "'little'"
      ]
     },
     "execution_count": 78,
     "metadata": {},
     "output_type": "execute_result"
    }
   ],
   "source": [
    "import sys\n",
    "sys.byteorder"
   ]
  },
  {
   "cell_type": "code",
   "execution_count": null,
   "metadata": {},
   "outputs": [],
   "source": []
  }
 ],
 "metadata": {
  "kernelspec": {
   "display_name": "Python 3",
   "language": "python",
   "name": "python3"
  },
  "language_info": {
   "codemirror_mode": {
    "name": "ipython",
    "version": 3
   },
   "file_extension": ".py",
   "mimetype": "text/x-python",
   "name": "python",
   "nbconvert_exporter": "python",
   "pygments_lexer": "ipython3",
   "version": "3.7.1"
  }
 },
 "nbformat": 4,
 "nbformat_minor": 2
}
