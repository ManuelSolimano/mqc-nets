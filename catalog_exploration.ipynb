{
 "cells": [
  {
   "cell_type": "code",
   "execution_count": 1,
   "metadata": {},
   "outputs": [],
   "source": [
    "import numpy as np\n",
    "import matplotlib.pyplot as plt\n",
    "from astropy.io import fits\n",
    "from astropy.table import Table\n",
    "%matplotlib inline"
   ]
  },
  {
   "cell_type": "code",
   "execution_count": 5,
   "metadata": {},
   "outputs": [
    {
     "data": {
      "text/html": [
       "<i>Table masked=True length=510764</i>\n",
       "<table id=\"table140305058078168\" class=\"table-striped table-bordered table-condensed\">\n",
       "<thead><tr><th>RA</th><th>DEC</th><th>NAME</th><th>TYPE</th><th>RMAG</th><th>BMAG</th><th>COM</th><th>R</th><th>B</th><th>Z</th><th>CITE</th><th>ZCITE</th><th>XRAY</th><th>RADIO</th><th>LOBE1</th><th>LOBE2</th></tr></thead>\n",
       "<thead><tr><th>float64</th><th>float64</th><th>bytes25</th><th>bytes4</th><th>float32</th><th>float32</th><th>bytes3</th><th>bytes1</th><th>bytes1</th><th>float32</th><th>int16</th><th>int16</th><th>bytes22</th><th>bytes22</th><th>bytes22</th><th>bytes22</th></tr></thead>\n",
       "<tr><td>0.0018983</td><td>17.7737391</td><td>SDSS J000000.45+174625.4</td><td>Q</td><td>22.1</td><td>21.9</td><td>g</td><td>-</td><td>-</td><td>2.309</td><td>1411</td><td>1411</td><td></td><td></td><td></td><td></td></tr>\n",
       "<tr><td>0.0027564</td><td>14.9746755</td><td>SDSS J000000.66+145828.8</td><td>Q</td><td>20.7</td><td>21.2</td><td>jm</td><td>-</td><td>1</td><td>2.497</td><td>1411</td><td>1411</td><td></td><td></td><td></td><td></td></tr>\n",
       "<tr><td>0.0040524</td><td>4.8297806</td><td>SDSS J000000.97+044947.2</td><td>Q</td><td>19.3</td><td>19.9</td><td>j</td><td>1</td><td>n</td><td>1.619</td><td>1410</td><td>1411</td><td></td><td></td><td></td><td></td></tr>\n",
       "<tr><td>0.005277</td><td>7.024644</td><td>KX 208</td><td>Q</td><td>18.3</td><td>18.6</td><td>p</td><td>-</td><td>-</td><td>1.227</td><td>1135</td><td>1135</td><td></td><td></td><td></td><td></td></tr>\n",
       "<tr><td>0.005317</td><td>-2.0332733</td><td>FBQS J00000-0202</td><td>QR</td><td>19.7</td><td>21.0</td><td>p</td><td>-</td><td>-</td><td>1.36</td><td>145</td><td>1411</td><td></td><td>FIRST J000001.2-020200</td><td></td><td></td></tr>\n",
       "<tr><td>0.0057462</td><td>-1.3250088</td><td>SDSS J000001.37-011930.0</td><td>Q</td><td>19.7</td><td>20.9</td><td>p</td><td>-</td><td>-</td><td>2.328</td><td>1411</td><td>1411</td><td></td><td></td><td></td><td></td></tr>\n",
       "<tr><td>0.0058334</td><td>-30.6075</td><td>2QZ J000001.3-303627</td><td>Q</td><td>18.9</td><td>20.1</td><td>p</td><td>-</td><td>-</td><td>1.143</td><td>447</td><td>447</td><td></td><td></td><td></td><td></td></tr>\n",
       "<tr><td>0.0059121</td><td>20.0122585</td><td>SDSS J000001.41+200044.1</td><td>Q</td><td>19.4</td><td>21.7</td><td>p</td><td>n</td><td>-</td><td>3.09</td><td>1411</td><td>1411</td><td></td><td></td><td></td><td></td></tr>\n",
       "<tr><td>0.0068188</td><td>30.5193561</td><td>SDSS J000001.63+303109.6</td><td>Q</td><td>21.8</td><td>21.9</td><td>g</td><td>-</td><td>-</td><td>2.377</td><td>1411</td><td>1411</td><td></td><td></td><td></td><td></td></tr>\n",
       "<tr><td>0.0072223</td><td>-31.3736112</td><td>2QZ J000001.7-312226</td><td>Q</td><td>19.9</td><td>20.6</td><td>p</td><td>-</td><td>-</td><td>1.331</td><td>447</td><td>447</td><td></td><td></td><td></td><td></td></tr>\n",
       "<tr><td>...</td><td>...</td><td>...</td><td>...</td><td>...</td><td>...</td><td>...</td><td>...</td><td>...</td><td>...</td><td>...</td><td>...</td><td>...</td><td>...</td><td>...</td><td>...</td></tr>\n",
       "<tr><td>359.9973903</td><td>29.7845644</td><td>SDSS J235959.37+294704.4</td><td>Q</td><td>21.2</td><td>21.5</td><td>g</td><td>-</td><td>-</td><td>2.199</td><td>1411</td><td>1411</td><td></td><td></td><td></td><td></td></tr>\n",
       "<tr><td>359.9975691</td><td>-9.826066</td><td>SDSS J235959.41-094933.8</td><td>Q</td><td>20.4</td><td>20.5</td><td>j</td><td>-</td><td>-</td><td>2.439</td><td>1411</td><td>1411</td><td></td><td></td><td></td><td></td></tr>\n",
       "<tr><td>359.997675</td><td>0.14487</td><td>SDSS J235959.44+000841.5</td><td>Q</td><td>19.6</td><td>21.2</td><td>p</td><td>-</td><td>-</td><td>1.354</td><td>1668</td><td>1669</td><td></td><td></td><td></td><td></td></tr>\n",
       "<tr><td>359.9987744</td><td>8.7514522</td><td>SDSS J235959.70+084505.2</td><td>Q</td><td>19.6</td><td>21.1</td><td>p</td><td>-</td><td>-</td><td>2.205</td><td>1411</td><td>1411</td><td></td><td></td><td></td><td></td></tr>\n",
       "<tr><td>359.9988889</td><td>-31.1658334</td><td>2QZ J235959.7-310957</td><td>QR</td><td>18.3</td><td>19.7</td><td>p</td><td>1</td><td>-</td><td>1.339</td><td>447</td><td>447</td><td></td><td>NVSS J235959.9-310955</td><td></td><td></td></tr>\n",
       "<tr><td>359.9989223</td><td>10.1168004</td><td>SDSS J235959.74+100700.4</td><td>Q</td><td>21.6</td><td>22.0</td><td>g</td><td>-</td><td>-</td><td>2.415</td><td>1411</td><td>1411</td><td></td><td></td><td></td><td></td></tr>\n",
       "<tr><td>359.9991178</td><td>28.9547342</td><td>SDSS J235959.78+285717.0</td><td>Q</td><td>21.4</td><td>21.4</td><td>g</td><td>-</td><td>-</td><td>2.452</td><td>1411</td><td>1411</td><td></td><td></td><td></td><td></td></tr>\n",
       "<tr><td>359.9992931</td><td>34.7208385</td><td>SDSS J235959.83+344315.0</td><td>Q</td><td>19.7</td><td>20.7</td><td>p</td><td>-</td><td>n</td><td>3.109</td><td>1411</td><td>1411</td><td></td><td></td><td></td><td></td></tr>\n",
       "<tr><td>359.9997223</td><td>-0.0327778</td><td>Q 2357-003A</td><td>Q</td><td>18.1</td><td>19.4</td><td>p</td><td>-</td><td>-</td><td>1.56</td><td>2150</td><td>2150</td><td></td><td></td><td></td><td></td></tr>\n",
       "<tr><td>359.9999423</td><td>34.7471272</td><td>SDSS J235959.98+344449.6</td><td>Q</td><td>20.6</td><td>20.9</td><td>g</td><td>-</td><td>-</td><td>2.375</td><td>1411</td><td>1411</td><td></td><td></td><td></td><td></td></tr>\n",
       "</table>"
      ],
      "text/plain": [
       "<Table masked=True length=510764>\n",
       "     RA         DEC     ...         LOBE1                  LOBE2         \n",
       "  float64     float64   ...        bytes22                bytes22        \n",
       "----------- ----------- ... ---------------------- ----------------------\n",
       "  0.0018983  17.7737391 ...                                              \n",
       "  0.0027564  14.9746755 ...                                              \n",
       "  0.0040524   4.8297806 ...                                              \n",
       "   0.005277    7.024644 ...                                              \n",
       "   0.005317  -2.0332733 ...                                              \n",
       "  0.0057462  -1.3250088 ...                                              \n",
       "  0.0058334    -30.6075 ...                                              \n",
       "  0.0059121  20.0122585 ...                                              \n",
       "  0.0068188  30.5193561 ...                                              \n",
       "  0.0072223 -31.3736112 ...                                              \n",
       "        ...         ... ...                    ...                    ...\n",
       "359.9973903  29.7845644 ...                                              \n",
       "359.9975691   -9.826066 ...                                              \n",
       " 359.997675     0.14487 ...                                              \n",
       "359.9987744   8.7514522 ...                                              \n",
       "359.9988889 -31.1658334 ...                                              \n",
       "359.9989223  10.1168004 ...                                              \n",
       "359.9991178  28.9547342 ...                                              \n",
       "359.9992931  34.7208385 ...                                              \n",
       "359.9997223  -0.0327778 ...                                              \n",
       "359.9999423  34.7471272 ...                                              "
      ]
     },
     "execution_count": 5,
     "metadata": {},
     "output_type": "execute_result"
    }
   ],
   "source": [
    "t = Table.read('data/HMQ.fits')  # assuming you have the file in this directory\n",
    "t"
   ]
  },
  {
   "cell_type": "code",
   "execution_count": 3,
   "metadata": {},
   "outputs": [],
   "source": [
    "# Get only the relevant columns. Later I can include the \n",
    "#  information in the comments, for filtering purposes\n",
    "relevant = t['RA', 'DEC', 'TYPE', 'RMAG', 'BMAG', 'Z']\n",
    "obj_by_type = relevant.group_by('TYPE')"
   ]
  },
  {
   "cell_type": "code",
   "execution_count": 4,
   "metadata": {},
   "outputs": [
    {
     "name": "stdout",
     "output_type": "stream",
     "text": [
      "39\n"
     ]
    }
   ],
   "source": [
    "# How many differnt type classes there are?\n",
    "# for row in obj_by_type.groups.keys:\n",
    "#     print(row.as_void())\n",
    "print(len(obj_by_type.groups.keys))"
   ]
  },
  {
   "cell_type": "code",
   "execution_count": 5,
   "metadata": {},
   "outputs": [
    {
     "name": "stdout",
     "output_type": "stream",
     "text": [
      "- <class 'str'>\n"
     ]
    }
   ],
   "source": [
    "print(t['R'][1],type(t['R'][1])) # missing entries are indicated through the '-' string."
   ]
  },
  {
   "cell_type": "code",
   "execution_count": 6,
   "metadata": {},
   "outputs": [
    {
     "name": "stdout",
     "output_type": "stream",
     "text": [
      "0, Class: A   , Number of objects: 16261\n",
      "1, Class: A2  , Number of objects: 108\n",
      "2, Class: A2X , Number of objects: 37\n",
      "3, Class: AR  , Number of objects: 3987\n",
      "4, Class: AR2 , Number of objects: 73\n",
      "5, Class: AR2X, Number of objects: 38\n",
      "6, Class: ARX , Number of objects: 1296\n",
      "7, Class: AX  , Number of objects: 4823\n",
      "8, Class: B   , Number of objects: 75\n",
      "9, Class: B2  , Number of objects: 5\n",
      "10, Class: B2X , Number of objects: 3\n",
      "11, Class: BR  , Number of objects: 518\n",
      "12, Class: BR2 , Number of objects: 2\n",
      "13, Class: BR2X, Number of objects: 3\n",
      "14, Class: BRX , Number of objects: 907\n",
      "15, Class: BX  , Number of objects: 82\n",
      "16, Class: K   , Number of objects: 26024\n",
      "17, Class: K2  , Number of objects: 144\n",
      "18, Class: K2X , Number of objects: 31\n",
      "19, Class: KR  , Number of objects: 4120\n",
      "20, Class: KR2 , Number of objects: 76\n",
      "21, Class: KR2X, Number of objects: 20\n",
      "22, Class: KRX , Number of objects: 481\n",
      "23, Class: KX  , Number of objects: 1887\n",
      "24, Class: Q   , Number of objects: 376376\n",
      "25, Class: Q2  , Number of objects: 727\n",
      "26, Class: Q2X , Number of objects: 169\n",
      "27, Class: QR  , Number of objects: 18000\n",
      "28, Class: QR2 , Number of objects: 559\n",
      "29, Class: QR2X, Number of objects: 197\n",
      "30, Class: QRX , Number of objects: 3199\n",
      "31, Class: QX  , Number of objects: 25521\n",
      "32, Class: q2  , Number of objects: 250\n",
      "33, Class: q2X , Number of objects: 21\n",
      "34, Class: qR  , Number of objects: 7672\n",
      "35, Class: qR2 , Number of objects: 139\n",
      "36, Class: qR2X, Number of objects: 28\n",
      "37, Class: qRX , Number of objects: 497\n",
      "38, Class: qX  , Number of objects: 16408\n"
     ]
    }
   ],
   "source": [
    "# How many objects are in each class?\n",
    "group_indices = obj_by_type.groups.indices\n",
    "for i, key in enumerate(obj_by_type.groups.keys['TYPE']):\n",
    "    freq  = '{:d}, Class: {:s}, Number of objects: {:d}'.format(i, key, group_indices[i + 1] - group_indices[i])\n",
    "    print(freq)\n",
    "    "
   ]
  },
  {
   "cell_type": "code",
   "execution_count": 25,
   "metadata": {},
   "outputs": [
    {
     "data": {
      "text/html": [
       "<i>Table masked=True length=449763</i>\n",
       "<table id=\"table140207893630928\" class=\"table-striped table-bordered table-condensed\">\n",
       "<thead><tr><th>RA</th><th>DEC</th><th>TYPE</th><th>RMAG</th><th>BMAG</th><th>Z</th></tr></thead>\n",
       "<thead><tr><th>float64</th><th>float64</th><th>bytes4</th><th>float32</th><th>float32</th><th>float32</th></tr></thead>\n",
       "<tr><td>0.0018983</td><td>17.7737391</td><td>Q</td><td>22.1</td><td>21.9</td><td>2.309</td></tr>\n",
       "<tr><td>0.0027564</td><td>14.9746755</td><td>Q</td><td>20.7</td><td>21.2</td><td>2.497</td></tr>\n",
       "<tr><td>0.0040524</td><td>4.8297806</td><td>Q</td><td>19.3</td><td>19.9</td><td>1.619</td></tr>\n",
       "<tr><td>0.005277</td><td>7.024644</td><td>Q</td><td>18.3</td><td>18.6</td><td>1.227</td></tr>\n",
       "<tr><td>0.0057462</td><td>-1.3250088</td><td>Q</td><td>19.7</td><td>20.9</td><td>2.328</td></tr>\n",
       "<tr><td>0.0058334</td><td>-30.6075</td><td>Q</td><td>18.9</td><td>20.1</td><td>1.143</td></tr>\n",
       "<tr><td>0.0059121</td><td>20.0122585</td><td>Q</td><td>19.4</td><td>21.7</td><td>3.09</td></tr>\n",
       "<tr><td>0.0068188</td><td>30.5193561</td><td>Q</td><td>21.8</td><td>21.9</td><td>2.377</td></tr>\n",
       "<tr><td>0.0072223</td><td>-31.3736112</td><td>Q</td><td>19.9</td><td>20.6</td><td>1.331</td></tr>\n",
       "<tr><td>0.0075785</td><td>14.1973854</td><td>Q</td><td>20.7</td><td>21.8</td><td>3.711</td></tr>\n",
       "<tr><td>...</td><td>...</td><td>...</td><td>...</td><td>...</td><td>...</td></tr>\n",
       "<tr><td>359.7015506</td><td>-0.050923</td><td>qX</td><td>22.1</td><td>22.1</td><td>1.8</td></tr>\n",
       "<tr><td>359.7039294</td><td>20.0434863</td><td>qX</td><td>20.2</td><td>20.0</td><td>1.3</td></tr>\n",
       "<tr><td>359.7138405</td><td>-0.0997188</td><td>qX</td><td>19.9</td><td>21.6</td><td>1.6</td></tr>\n",
       "<tr><td>359.7365128</td><td>5.1167797</td><td>qX</td><td>21.3</td><td>21.5</td><td>0.3</td></tr>\n",
       "<tr><td>359.7760606</td><td>-6.6301757</td><td>qX</td><td>17.9</td><td>18.1</td><td>1.0</td></tr>\n",
       "<tr><td>359.7782985</td><td>19.99545</td><td>qX</td><td>20.4</td><td>20.7</td><td>1.2</td></tr>\n",
       "<tr><td>359.8161461</td><td>30.0947294</td><td>qX</td><td>19.4</td><td>19.9</td><td>1.0</td></tr>\n",
       "<tr><td>359.9372991</td><td>5.131355</td><td>qX</td><td>19.3</td><td>19.6</td><td>1.7</td></tr>\n",
       "<tr><td>359.9393653</td><td>-9.6334047</td><td>qX</td><td>20.8</td><td>20.9</td><td>1.5</td></tr>\n",
       "<tr><td>359.9898142</td><td>0.6555048</td><td>qX</td><td>21.3</td><td>21.4</td><td>1.6</td></tr>\n",
       "</table>"
      ],
      "text/plain": [
       "<Table masked=True length=449763>\n",
       "     RA         DEC      TYPE    RMAG    BMAG     Z   \n",
       "  float64     float64   bytes4 float32 float32 float32\n",
       "----------- ----------- ------ ------- ------- -------\n",
       "  0.0018983  17.7737391   Q       22.1    21.9   2.309\n",
       "  0.0027564  14.9746755   Q       20.7    21.2   2.497\n",
       "  0.0040524   4.8297806   Q       19.3    19.9   1.619\n",
       "   0.005277    7.024644   Q       18.3    18.6   1.227\n",
       "  0.0057462  -1.3250088   Q       19.7    20.9   2.328\n",
       "  0.0058334    -30.6075   Q       18.9    20.1   1.143\n",
       "  0.0059121  20.0122585   Q       19.4    21.7    3.09\n",
       "  0.0068188  30.5193561   Q       21.8    21.9   2.377\n",
       "  0.0072223 -31.3736112   Q       19.9    20.6   1.331\n",
       "  0.0075785  14.1973854   Q       20.7    21.8   3.711\n",
       "        ...         ...    ...     ...     ...     ...\n",
       "359.7015506   -0.050923   qX      22.1    22.1     1.8\n",
       "359.7039294  20.0434863   qX      20.2    20.0     1.3\n",
       "359.7138405  -0.0997188   qX      19.9    21.6     1.6\n",
       "359.7365128   5.1167797   qX      21.3    21.5     0.3\n",
       "359.7760606  -6.6301757   qX      17.9    18.1     1.0\n",
       "359.7782985    19.99545   qX      20.4    20.7     1.2\n",
       "359.8161461  30.0947294   qX      19.4    19.9     1.0\n",
       "359.9372991    5.131355   qX      19.3    19.6     1.7\n",
       "359.9393653  -9.6334047   qX      20.8    20.9     1.5\n",
       "359.9898142   0.6555048   qX      21.3    21.4     1.6"
      ]
     },
     "execution_count": 25,
     "metadata": {},
     "output_type": "execute_result"
    }
   ],
   "source": [
    "# I am including the photometrically selected quasars (q label)\n",
    "quasars = obj_by_type[obj_by_type.groups.indices[24]:]\n",
    "quasars"
   ]
  },
  {
   "cell_type": "markdown",
   "metadata": {},
   "source": [
    "Let's see how the data is distributed across the sky"
   ]
  },
  {
   "cell_type": "code",
   "execution_count": 8,
   "metadata": {},
   "outputs": [
    {
     "data": {
      "image/png": "[encoded data removed]",
      "text/plain": [
       "<Figure size 576x432 with 1 Axes>"
      ]
     },
     "metadata": {
      "needs_background": "light"
     },
     "output_type": "display_data"
    }
   ],
   "source": [
    "import astropy.coordinates as coord\n",
    "import astropy.units as u\n",
    "ra = coord.Angle(quasars['RA'].filled(np.nan)*u.degree)\n",
    "ra = ra.wrap_at(180*u.degree)\n",
    "dec = coord.Angle(quasars['DEC'].filled(np.nan)*u.degree)\n",
    "\n",
    "fig = plt.figure(figsize=(8,6))\n",
    "ax = fig.add_subplot(111, projection=\"mollweide\")\n",
    "ax.scatter(ra.radian, dec.radian, s=1)\n",
    "ax.set_xticklabels(['14h','16h','18h','20h','22h','0h','2h','4h','6h','8h','10h']);"
   ]
  },
  {
   "cell_type": "code",
   "execution_count": 2,
   "metadata": {},
   "outputs": [],
   "source": [
    "def brighter_than(table, rmag, bmag=np.inf):\n",
    "    \"\"\" Filter table by brightness. Default behaviour is \n",
    "    cutting everything dimmer than rmag in the red channel.\n",
    "    A joint blue magnitude threshold can be applied.\n",
    "    \"\"\"\n",
    "    red_cut = table['RMAG'] < rmag\n",
    "    blue_cut = table['BMAG'] < bmag\n",
    "    indices = np.where(np.logical_and(red_cut, blue_cut))[0]\n",
    "    return table[indices]\n",
    "\n",
    "# brighter = brighter_than(quasars, 20., 20.)\n",
    "# brighter"
   ]
  },
  {
   "cell_type": "code",
   "execution_count": 4,
   "metadata": {},
   "outputs": [
    {
     "ename": "NameError",
     "evalue": "name 't' is not defined",
     "output_type": "error",
     "traceback": [
      "\u001b[0;31m----------------------------------------------------------\u001b[0m",
      "\u001b[0;31mNameError\u001b[0m                Traceback (most recent call last)",
      "\u001b[0;32m<ipython-input-4-6dea1bcc029e>\u001b[0m in \u001b[0;36m<module>\u001b[0;34m\u001b[0m\n\u001b[1;32m      4\u001b[0m \u001b[0mr\u001b[0m \u001b[0;34m=\u001b[0m \u001b[0mre\u001b[0m\u001b[0;34m.\u001b[0m\u001b[0mcompile\u001b[0m\u001b[0;34m(\u001b[0m\u001b[0;34m'SDSS*'\u001b[0m\u001b[0;34m)\u001b[0m\u001b[0;34m\u001b[0m\u001b[0;34m\u001b[0m\u001b[0m\n\u001b[1;32m      5\u001b[0m \u001b[0mvmatch\u001b[0m \u001b[0;34m=\u001b[0m \u001b[0mnp\u001b[0m\u001b[0;34m.\u001b[0m\u001b[0mvectorize\u001b[0m\u001b[0;34m(\u001b[0m\u001b[0;32mlambda\u001b[0m \u001b[0mx\u001b[0m\u001b[0;34m:\u001b[0m \u001b[0mbool\u001b[0m\u001b[0;34m(\u001b[0m\u001b[0mr\u001b[0m\u001b[0;34m.\u001b[0m\u001b[0mmatch\u001b[0m\u001b[0;34m(\u001b[0m\u001b[0mx\u001b[0m\u001b[0;34m)\u001b[0m\u001b[0;34m)\u001b[0m\u001b[0;34m)\u001b[0m\u001b[0;34m\u001b[0m\u001b[0;34m\u001b[0m\u001b[0m\n\u001b[0;32m----> 6\u001b[0;31m \u001b[0monly_sdss\u001b[0m \u001b[0;34m=\u001b[0m \u001b[0mnp\u001b[0m\u001b[0;34m.\u001b[0m\u001b[0mwhere\u001b[0m\u001b[0;34m(\u001b[0m\u001b[0mvmatch\u001b[0m\u001b[0;34m(\u001b[0m\u001b[0mt\u001b[0m\u001b[0;34m[\u001b[0m\u001b[0;34m'NAME'\u001b[0m\u001b[0;34m]\u001b[0m\u001b[0;34m.\u001b[0m\u001b[0mpformat\u001b[0m\u001b[0;34m(\u001b[0m\u001b[0mmax_lines\u001b[0m\u001b[0;34m=\u001b[0m\u001b[0;36m999999\u001b[0m\u001b[0;34m,\u001b[0m \u001b[0mshow_name\u001b[0m\u001b[0;34m=\u001b[0m\u001b[0;32mFalse\u001b[0m\u001b[0;34m)\u001b[0m\u001b[0;34m)\u001b[0m\u001b[0;34m)\u001b[0m \u001b[0;31m#The pformat method converts the table to a list of stings, this is the bottleneck\u001b[0m\u001b[0;34m\u001b[0m\u001b[0;34m\u001b[0m\u001b[0m\n\u001b[0m",
      "\u001b[0;31mNameError\u001b[0m: name 't' is not defined"
     ]
    }
   ],
   "source": [
    "# Get only those with an SDSS identifier\n",
    "# Not so proud of this script, it is quite slow\n",
    "import re\n",
    "r = re.compile('SDSS*')\n",
    "vmatch = np.vectorize(lambda x: bool(r.match(x)))\n",
    "only_sdss = np.where(vmatch(t['NAME'].pformat(max_lines=999999, show_name=False))) #The pformat method converts the table to a list of stings, this is the bottleneck"
   ]
  },
  {
   "cell_type": "code",
   "execution_count": 47,
   "metadata": {},
   "outputs": [
    {
     "name": "stdout",
     "output_type": "stream",
     "text": [
      "0, Class: A   , Number of objects: 12237\n",
      "1, Class: A2  , Number of objects: 90\n",
      "2, Class: A2X , Number of objects: 7\n",
      "3, Class: AR  , Number of objects: 2332\n",
      "4, Class: AR2 , Number of objects: 50\n",
      "5, Class: AR2X, Number of objects: 13\n",
      "6, Class: ARX , Number of objects: 270\n",
      "7, Class: AX  , Number of objects: 2613\n",
      "8, Class: B   , Number of objects: 11\n",
      "9, Class: BR  , Number of objects: 201\n",
      "10, Class: BR2 , Number of objects: 2\n",
      "11, Class: BRX , Number of objects: 181\n",
      "12, Class: BX  , Number of objects: 1\n",
      "13, Class: K   , Number of objects: 17952\n",
      "14, Class: K2  , Number of objects: 117\n",
      "15, Class: K2X , Number of objects: 7\n",
      "16, Class: KR  , Number of objects: 2050\n",
      "17, Class: KR2 , Number of objects: 56\n",
      "18, Class: KR2X, Number of objects: 11\n",
      "19, Class: KRX , Number of objects: 74\n",
      "20, Class: KX  , Number of objects: 754\n",
      "21, Class: Q   , Number of objects: 335983\n",
      "22, Class: Q2  , Number of objects: 590\n",
      "23, Class: Q2X , Number of objects: 83\n",
      "24, Class: QR  , Number of objects: 14524\n",
      "25, Class: QR2 , Number of objects: 425\n",
      "26, Class: QR2X, Number of objects: 90\n",
      "27, Class: QRX , Number of objects: 1289\n",
      "28, Class: QX  , Number of objects: 17964\n",
      "29, Class: q2  , Number of objects: 250\n",
      "30, Class: q2X , Number of objects: 21\n",
      "31, Class: qR  , Number of objects: 7672\n",
      "32, Class: qR2 , Number of objects: 139\n",
      "33, Class: qR2X, Number of objects: 28\n",
      "34, Class: qRX , Number of objects: 497\n",
      "35, Class: qX  , Number of objects: 16406\n"
     ]
    }
   ],
   "source": [
    "# Now, further filtering\n",
    "sdss_sources = t[only_sdss]['RA', 'DEC', 'NAME', 'TYPE', 'RMAG', 'BMAG', 'Z']\n",
    "\n",
    "# How many objects are in each class?\n",
    "obj_by_type = sdss_sources.group_by('TYPE')\n",
    "group_indices = obj_by_type.groups.indices\n",
    "for i, key in enumerate(obj_by_type.groups.keys['TYPE']):\n",
    "    freq  = '{:d}, Class: {:s}, Number of objects: {:d}'.format(i, key, group_indices[i + 1] - group_indices[i])\n",
    "    print(freq)"
   ]
  },
  {
   "cell_type": "code",
   "execution_count": 48,
   "metadata": {},
   "outputs": [
    {
     "data": {
      "text/html": [
       "<i>Table masked=True length=395961</i>\n",
       "<table id=\"table140207658188024\" class=\"table-striped table-bordered table-condensed\">\n",
       "<thead><tr><th>RA</th><th>DEC</th><th>NAME</th><th>TYPE</th><th>RMAG</th><th>BMAG</th><th>Z</th></tr></thead>\n",
       "<thead><tr><th>float64</th><th>float64</th><th>bytes25</th><th>bytes4</th><th>float32</th><th>float32</th><th>float32</th></tr></thead>\n",
       "<tr><td>0.0018983</td><td>17.7737391</td><td>SDSS J000000.45+174625.4</td><td>Q</td><td>22.1</td><td>21.9</td><td>2.309</td></tr>\n",
       "<tr><td>0.0027564</td><td>14.9746755</td><td>SDSS J000000.66+145828.8</td><td>Q</td><td>20.7</td><td>21.2</td><td>2.497</td></tr>\n",
       "<tr><td>0.0040524</td><td>4.8297806</td><td>SDSS J000000.97+044947.2</td><td>Q</td><td>19.3</td><td>19.9</td><td>1.619</td></tr>\n",
       "<tr><td>0.0057462</td><td>-1.3250088</td><td>SDSS J000001.37-011930.0</td><td>Q</td><td>19.7</td><td>20.9</td><td>2.328</td></tr>\n",
       "<tr><td>0.0059121</td><td>20.0122585</td><td>SDSS J000001.41+200044.1</td><td>Q</td><td>19.4</td><td>21.7</td><td>3.09</td></tr>\n",
       "<tr><td>0.0068188</td><td>30.5193561</td><td>SDSS J000001.63+303109.6</td><td>Q</td><td>21.8</td><td>21.9</td><td>2.377</td></tr>\n",
       "<tr><td>0.0075785</td><td>14.1973854</td><td>SDSS J000001.81+141150.5</td><td>Q</td><td>20.7</td><td>21.8</td><td>3.711</td></tr>\n",
       "<tr><td>0.0080667</td><td>-0.2409708</td><td>SDSS J000001.93-001427.4</td><td>Q</td><td>20.2</td><td>20.6</td><td>2.163</td></tr>\n",
       "<tr><td>0.0085548</td><td>34.6786817</td><td>SDSS J000002.05+344043.2</td><td>Q</td><td>21.9</td><td>21.9</td><td>1.576</td></tr>\n",
       "<tr><td>0.0089803</td><td>15.2546388</td><td>SDSS J000002.15+151516.6</td><td>Q</td><td>20.2</td><td>20.8</td><td>1.71</td></tr>\n",
       "<tr><td>...</td><td>...</td><td>...</td><td>...</td><td>...</td><td>...</td><td>...</td></tr>\n",
       "<tr><td>359.7015506</td><td>-0.050923</td><td>SDSS J235848.37-000303.3</td><td>qX</td><td>22.1</td><td>22.1</td><td>1.8</td></tr>\n",
       "<tr><td>359.7039294</td><td>20.0434863</td><td>SDSS J235848.94+200236.5</td><td>qX</td><td>20.2</td><td>20.0</td><td>1.3</td></tr>\n",
       "<tr><td>359.7138405</td><td>-0.0997188</td><td>SDSS J235851.32-000558.9</td><td>qX</td><td>19.9</td><td>21.6</td><td>1.6</td></tr>\n",
       "<tr><td>359.7365128</td><td>5.1167797</td><td>SDSS J235856.76+050700.4</td><td>qX</td><td>21.3</td><td>21.5</td><td>0.3</td></tr>\n",
       "<tr><td>359.7760606</td><td>-6.6301757</td><td>SDSS J235906.25-063748.6</td><td>qX</td><td>17.9</td><td>18.1</td><td>1.0</td></tr>\n",
       "<tr><td>359.7782985</td><td>19.99545</td><td>SDSS J235906.79+195943.6</td><td>qX</td><td>20.4</td><td>20.7</td><td>1.2</td></tr>\n",
       "<tr><td>359.8161461</td><td>30.0947294</td><td>SDSS J235915.87+300541.0</td><td>qX</td><td>19.4</td><td>19.9</td><td>1.0</td></tr>\n",
       "<tr><td>359.9372991</td><td>5.131355</td><td>SDSS J235944.95+050752.8</td><td>qX</td><td>19.3</td><td>19.6</td><td>1.7</td></tr>\n",
       "<tr><td>359.9393653</td><td>-9.6334047</td><td>SDSS J235945.44-093800.2</td><td>qX</td><td>20.8</td><td>20.9</td><td>1.5</td></tr>\n",
       "<tr><td>359.9898142</td><td>0.6555048</td><td>SDSS J235957.55+003919.8</td><td>qX</td><td>21.3</td><td>21.4</td><td>1.6</td></tr>\n",
       "</table>"
      ],
      "text/plain": [
       "<Table masked=True length=395961>\n",
       "     RA        DEC                NAME            TYPE    RMAG    BMAG     Z   \n",
       "  float64    float64            bytes25          bytes4 float32 float32 float32\n",
       "----------- ---------- ------------------------- ------ ------- ------- -------\n",
       "  0.0018983 17.7737391 SDSS J000000.45+174625.4    Q       22.1    21.9   2.309\n",
       "  0.0027564 14.9746755 SDSS J000000.66+145828.8    Q       20.7    21.2   2.497\n",
       "  0.0040524  4.8297806 SDSS J000000.97+044947.2    Q       19.3    19.9   1.619\n",
       "  0.0057462 -1.3250088 SDSS J000001.37-011930.0    Q       19.7    20.9   2.328\n",
       "  0.0059121 20.0122585 SDSS J000001.41+200044.1    Q       19.4    21.7    3.09\n",
       "  0.0068188 30.5193561 SDSS J000001.63+303109.6    Q       21.8    21.9   2.377\n",
       "  0.0075785 14.1973854 SDSS J000001.81+141150.5    Q       20.7    21.8   3.711\n",
       "  0.0080667 -0.2409708 SDSS J000001.93-001427.4    Q       20.2    20.6   2.163\n",
       "  0.0085548 34.6786817 SDSS J000002.05+344043.2    Q       21.9    21.9   1.576\n",
       "  0.0089803 15.2546388 SDSS J000002.15+151516.6    Q       20.2    20.8    1.71\n",
       "        ...        ...                       ...    ...     ...     ...     ...\n",
       "359.7015506  -0.050923 SDSS J235848.37-000303.3    qX      22.1    22.1     1.8\n",
       "359.7039294 20.0434863 SDSS J235848.94+200236.5    qX      20.2    20.0     1.3\n",
       "359.7138405 -0.0997188 SDSS J235851.32-000558.9    qX      19.9    21.6     1.6\n",
       "359.7365128  5.1167797 SDSS J235856.76+050700.4    qX      21.3    21.5     0.3\n",
       "359.7760606 -6.6301757 SDSS J235906.25-063748.6    qX      17.9    18.1     1.0\n",
       "359.7782985   19.99545 SDSS J235906.79+195943.6    qX      20.4    20.7     1.2\n",
       "359.8161461 30.0947294 SDSS J235915.87+300541.0    qX      19.4    19.9     1.0\n",
       "359.9372991   5.131355 SDSS J235944.95+050752.8    qX      19.3    19.6     1.7\n",
       "359.9393653 -9.6334047 SDSS J235945.44-093800.2    qX      20.8    20.9     1.5\n",
       "359.9898142  0.6555048 SDSS J235957.55+003919.8    qX      21.3    21.4     1.6"
      ]
     },
     "execution_count": 48,
     "metadata": {},
     "output_type": "execute_result"
    }
   ],
   "source": [
    "# I am including the photometrically selected quasars (q label)\n",
    "quasars = obj_by_type[obj_by_type.groups.indices[21]:]\n",
    "quasars"
   ]
  },
  {
   "cell_type": "code",
   "execution_count": 49,
   "metadata": {},
   "outputs": [],
   "source": [
    "quasars.write('data/quasars_from_sdss.xml', format='votable')"
   ]
  },
  {
   "cell_type": "code",
   "execution_count": 5,
   "metadata": {},
   "outputs": [],
   "source": [
    "mqc = Table.read('data/milliquas_sdss_only_qsos_brighter20rmag.fits', format='fits')"
   ]
  },
  {
   "cell_type": "code",
   "execution_count": 7,
   "metadata": {},
   "outputs": [
    {
     "data": {
      "text/plain": [
       "81"
      ]
     },
     "execution_count": 7,
     "metadata": {},
     "output_type": "execute_result"
    }
   ],
   "source": [
    "mqc['QSO_PROB'].min()"
   ]
  },
  {
   "cell_type": "code",
   "execution_count": 8,
   "metadata": {},
   "outputs": [],
   "source": [
    "mqc.write('data/milliquas_sdss_only_qsos_brighter20rmag.xml', format='votable')"
   ]
  },
  {
   "cell_type": "code",
   "execution_count": 1,
   "metadata": {},
   "outputs": [
    {
     "data": {
      "text/plain": [
       "120.0"
      ]
     },
     "execution_count": 1,
     "metadata": {},
     "output_type": "execute_result"
    }
   ],
   "source": [
    "7200 / 60"
   ]
  },
  {
   "cell_type": "markdown",
   "metadata": {},
   "source": [
    "From now on, I'll be working with the crossmatched data from Gaia"
   ]
  },
  {
   "cell_type": "code",
   "execution_count": 60,
   "metadata": {},
   "outputs": [
    {
     "name": "stdout",
     "output_type": "stream",
     "text": [
      "# This table contains\n",
      "# Confirmed (Q) and photometric candidates (q) of SDSS QSOs\n",
      "# from the Million Quasar Catalog v. 5.2 (as taken from VizieR) with a match in the Gaia DR2\n",
      "# \"source\" catalog. \n",
      "# \tCrossmatch radius: 1\"\n",
      "# \tSimilar magnitudes: GRP mag and  GBP mag must lie within 4 magnitudes \n",
      "# \t  around the Red and Blue MQC magnitudes respectively\n",
      "# \tRedshift: not null\n",
      "# \tQSO probability: greater than 80%\n",
      "# \tRed Magnitude (MQC) < 20\n",
      "# Included columns:\n",
      "# Dummy index, SDSS Name (based on position), Right Ascension (MQC), Declination (MQC),\n",
      "# Redshift, Broad Type as classified by the MQC docs, Gaia source ID, Gaia RP magnitude, \n",
      "# Gaia BP Magnitude, Angular distance between matching sources\n",
      "#\n",
      "# The steps to get this catalog were:\n",
      "# 1. Download MQC catalog from VizieR applying cut in qso probability and mag\n",
      "# 2. Construct Astropy Table and keep rows with names starting with 'SDSS'\n",
      "# 3. Cross-Match with Gaia DR2 Sources using Gaia Archive ADQL service\n",
      "# The final number of matches was 216939 \n"
     ]
    }
   ],
   "source": [
    "!head data/gaia2Xmqcv52_only_sdss.csv -n 20"
   ]
  },
  {
   "cell_type": "code",
   "execution_count": 11,
   "metadata": {},
   "outputs": [
    {
     "name": "stderr",
     "output_type": "stream",
     "text": [
      "WARNING: W35: data/gaia2Xmqcv52_only_sdss.xml:5:0: W35: 'value' attribute required for INFO elements [astropy.io.votable.tree]\n",
      "WARNING: W35: data/gaia2Xmqcv52_only_sdss.xml:10:0: W35: 'value' attribute required for INFO elements [astropy.io.votable.tree]\n",
      "WARNING: W35: data/gaia2Xmqcv52_only_sdss.xml:11:0: W35: 'value' attribute required for INFO elements [astropy.io.votable.tree]\n",
      "WARNING: W35: data/gaia2Xmqcv52_only_sdss.xml:12:0: W35: 'value' attribute required for INFO elements [astropy.io.votable.tree]\n",
      "WARNING: W35: data/gaia2Xmqcv52_only_sdss.xml:14:0: W35: 'value' attribute required for INFO elements [astropy.io.votable.tree]\n",
      "WARNING: W50: data/gaia2Xmqcv52_only_sdss.xml:21:0: W50: Invalid unit string 'DEGREE' [astropy.io.votable.tree]\n",
      "WARNING: W50: data/gaia2Xmqcv52_only_sdss.xml:22:0: W50: Invalid unit string 'DEGREE' [astropy.io.votable.tree]\n",
      "WARNING: W50: data/gaia2Xmqcv52_only_sdss.xml:23:0: W50: Invalid unit string 'MAG' [astropy.io.votable.tree]\n",
      "WARNING: W50: data/gaia2Xmqcv52_only_sdss.xml:24:0: W50: Invalid unit string 'MAG' [astropy.io.votable.tree]\n"
     ]
    }
   ],
   "source": [
    "gxm = Table.read('data/gaia2Xmqcv52_only_sdss.xml', format='votable')"
   ]
  },
  {
   "cell_type": "code",
   "execution_count": 12,
   "metadata": {},
   "outputs": [
    {
     "data": {
      "text/html": [
       "<i>Table masked=True length=216939</i>\n",
       "<table id=\"table140398399767888\" class=\"table-striped table-bordered table-condensed\">\n",
       "<thead><tr><th>broad_mcqxgaia2_oid</th><th>name</th><th>ra</th><th>dec</th><th>rmag</th><th>bmag</th><th>redshift</th><th>broad_type</th><th>source_id</th><th>phot_rp_mean_mag</th><th>phot_bp_mean_mag</th><th>dist</th></tr></thead>\n",
       "<thead><tr><th></th><th></th><th>DEGREE</th><th>DEGREE</th><th>MAG</th><th>MAG</th><th></th><th></th><th></th><th>mag</th><th>mag</th><th></th></tr></thead>\n",
       "<thead><tr><th>int32</th><th>bytes24</th><th>float64</th><th>float64</th><th>float64</th><th>float64</th><th>float64</th><th>bytes10</th><th>int64</th><th>float32</th><th>float32</th><th>float64</th></tr></thead>\n",
       "<tr><td>5</td><td>SDSS J215907.21+010959.6</td><td>329.78005</td><td>1.16656</td><td>13.67</td><td>14.69</td><td>2.8</td><td>Q</td><td>2681506245064171520</td><td>15.185944</td><td>16.041586</td><td>5.572236280197928e-05</td></tr>\n",
       "<tr><td>10</td><td>SDSS J140803.71+433432.4</td><td>212.01548</td><td>43.57569</td><td>14.45</td><td>15.27</td><td>3.2</td><td>Q</td><td>1505330997243862656</td><td>14.360353</td><td>15.1355915</td><td>1.4990659065023714e-05</td></tr>\n",
       "<tr><td>13</td><td>SDSS J215055.61+011517.6</td><td>327.73174</td><td>1.2549</td><td>14.6</td><td>16.02</td><td>2.7</td><td>Q</td><td>2681706596698739840</td><td>15.314851</td><td>15.976641</td><td>1.5239509442446977e-05</td></tr>\n",
       "<tr><td>14</td><td>SDSS J171938.95+382333.4</td><td>259.91229</td><td>38.39264</td><td>14.67</td><td>15.97</td><td>3.4</td><td>Q</td><td>1340514960154622848</td><td>14.132372</td><td>14.998522</td><td>5.023853507749787e-05</td></tr>\n",
       "<tr><td>15</td><td>SDSS J233927.81-001927.7</td><td>354.86592</td><td>-0.32436</td><td>14.67</td><td>16.63</td><td>3.7</td><td>Q</td><td>2642791100620451840</td><td>15.23926</td><td>16.488024</td><td>4.9300098464811566e-05</td></tr>\n",
       "<tr><td>18</td><td>SDSS J124334.36+540557.8</td><td>190.89319</td><td>54.0994</td><td>14.76</td><td>17.01</td><td>3.4</td><td>Q</td><td>1570810900407257984</td><td>15.709311</td><td>16.52896</td><td>1.9621259935873265e-05</td></tr>\n",
       "<tr><td>19</td><td>SDSS J152328.12+043905.1</td><td>230.86718</td><td>4.65142</td><td>14.76</td><td>14.83</td><td>3.1</td><td>Q</td><td>4428522503820615552</td><td>14.620478</td><td>14.678201</td><td>3.989474894481828e-05</td></tr>\n",
       "<tr><td>24</td><td>SDSS J163352.03+000226.1</td><td>248.46682</td><td>0.04059</td><td>14.89</td><td>15.6</td><td>0.9</td><td>Q</td><td>4383466853778414720</td><td>14.1327715</td><td>14.573066</td><td>3.514305894617125e-05</td></tr>\n",
       "<tr><td>26</td><td>SDSS J215144.98-004952.8</td><td>327.93745</td><td>-0.83134</td><td>14.93</td><td>16.67</td><td>2.9</td><td>Q</td><td>2680804241249498368</td><td>14.678741</td><td>15.892462</td><td>3.630617743643769e-05</td></tr>\n",
       "<tr><td>...</td><td>...</td><td>...</td><td>...</td><td>...</td><td>...</td><td>...</td><td>...</td><td>...</td><td>...</td><td>...</td><td>...</td></tr>\n",
       "<tr><td>231827</td><td>SDSS J235502.98+385123.5</td><td>358.76242</td><td>38.85653</td><td>19.99</td><td>21.11</td><td>1.6</td><td>Q</td><td>2881415287403681664</td><td>19.937792</td><td>20.76613</td><td>2.5645036073095804e-05</td></tr>\n",
       "<tr><td>231828</td><td>SDSS J235508.88-084743.7</td><td>358.78702</td><td>-8.79548</td><td>19.99</td><td>20.23</td><td>1.0</td><td>Q</td><td>2435295350740478592</td><td>19.354849</td><td>19.86085</td><td>3.219221731493831e-05</td></tr>\n",
       "<tr><td>231829</td><td>SDSS J235518.26+164426.7</td><td>358.82611</td><td>16.74077</td><td>19.99</td><td>20.12</td><td>0.9</td><td>Q</td><td>2773213417562298240</td><td>19.731941</td><td>20.392988</td><td>9.249726264294232e-06</td></tr>\n",
       "<tr><td>231830</td><td>SDSS J235554.50+153933.3</td><td>358.97711</td><td>15.65925</td><td>19.99</td><td>20.42</td><td>2.1</td><td>Q</td><td>2772325042229584256</td><td>19.441158</td><td>20.045681</td><td>2.4998382042564993e-05</td></tr>\n",
       "<tr><td>231832</td><td>SDSS J235648.53+123407.8</td><td>359.20224</td><td>12.56885</td><td>19.99</td><td>21.11</td><td>1.8</td><td>Q</td><td>2766804467362595200</td><td>20.07774</td><td>20.924704</td><td>2.842847815845839e-05</td></tr>\n",
       "<tr><td>231834</td><td>SDSS J235800.69+141139.9</td><td>359.50289</td><td>14.19443</td><td>19.99</td><td>20.64</td><td>1.6</td><td>Q</td><td>2770430033938952320</td><td>19.412228</td><td>20.18573</td><td>1.718306315047847e-05</td></tr>\n",
       "<tr><td>231835</td><td>SDSS J235831.72-063850.7</td><td>359.6322</td><td>-6.64744</td><td>19.99</td><td>20.39</td><td>0.4</td><td>Q</td><td>2442718153739176320</td><td>19.486094</td><td>20.060406</td><td>3.398390424430785e-05</td></tr>\n",
       "<tr><td>231836</td><td>SDSS J235834.65+311839.9</td><td>359.64439</td><td>31.3111</td><td>19.99</td><td>20.34</td><td>1.9</td><td>Q</td><td>2873621467948674560</td><td>20.522583</td><td>21.08357</td><td>3.4872333258223156e-05</td></tr>\n",
       "<tr><td>231837</td><td>SDSS J235907.50+003730.7</td><td>359.78128</td><td>0.62521</td><td>19.99</td><td>20.97</td><td>1.064</td><td>QR</td><td>2738273201476990848</td><td>19.4582</td><td>20.45207</td><td>1.640957458032297e-05</td></tr>\n",
       "<tr><td>231838</td><td>SDSS J235907.59+280020.5</td><td>359.78165</td><td>28.00572</td><td>19.99</td><td>21.29</td><td>3.9</td><td>Q</td><td>2854806075218636160</td><td>19.57568</td><td>20.70147</td><td>8.937265520447256e-06</td></tr>\n",
       "</table>"
      ],
      "text/plain": [
       "<Table masked=True length=216939>\n",
       "broad_mcqxgaia2_oid           name           ...          dist         \n",
       "                                             ...                       \n",
       "       int32                bytes24          ...        float64        \n",
       "------------------- ------------------------ ... ----------------------\n",
       "                  5 SDSS J215907.21+010959.6 ...  5.572236280197928e-05\n",
       "                 10 SDSS J140803.71+433432.4 ... 1.4990659065023714e-05\n",
       "                 13 SDSS J215055.61+011517.6 ... 1.5239509442446977e-05\n",
       "                 14 SDSS J171938.95+382333.4 ...  5.023853507749787e-05\n",
       "                 15 SDSS J233927.81-001927.7 ... 4.9300098464811566e-05\n",
       "                 18 SDSS J124334.36+540557.8 ... 1.9621259935873265e-05\n",
       "                 19 SDSS J152328.12+043905.1 ...  3.989474894481828e-05\n",
       "                 24 SDSS J163352.03+000226.1 ...  3.514305894617125e-05\n",
       "                 26 SDSS J215144.98-004952.8 ...  3.630617743643769e-05\n",
       "                ...                      ... ...                    ...\n",
       "             231827 SDSS J235502.98+385123.5 ... 2.5645036073095804e-05\n",
       "             231828 SDSS J235508.88-084743.7 ...  3.219221731493831e-05\n",
       "             231829 SDSS J235518.26+164426.7 ...  9.249726264294232e-06\n",
       "             231830 SDSS J235554.50+153933.3 ... 2.4998382042564993e-05\n",
       "             231832 SDSS J235648.53+123407.8 ...  2.842847815845839e-05\n",
       "             231834 SDSS J235800.69+141139.9 ...  1.718306315047847e-05\n",
       "             231835 SDSS J235831.72-063850.7 ...  3.398390424430785e-05\n",
       "             231836 SDSS J235834.65+311839.9 ... 3.4872333258223156e-05\n",
       "             231837 SDSS J235907.50+003730.7 ...  1.640957458032297e-05\n",
       "             231838 SDSS J235907.59+280020.5 ...  8.937265520447256e-06"
      ]
     },
     "execution_count": 12,
     "metadata": {},
     "output_type": "execute_result"
    }
   ],
   "source": [
    "gxm # This table contains gaia dr2 sources crossmatched with a SDSS-only version of MQCv5.2 "
   ]
  },
  {
   "cell_type": "code",
   "execution_count": 36,
   "metadata": {},
   "outputs": [],
   "source": [
    "!mkdir plots"
   ]
  },
  {
   "cell_type": "code",
   "execution_count": 57,
   "metadata": {},
   "outputs": [
    {
     "data": {
      "image/png": "[encoded data removed]",
      "text/plain": [
       "<Figure size 432x288 with 1 Axes>"
      ]
     },
     "metadata": {
      "needs_background": "light"
     },
     "output_type": "display_data"
    }
   ],
   "source": [
    "# Qué tan puro fue el cross-match?\n",
    "freqs, bins, _ = plt.hist(gxm['dist'] / 0.000277777777778, bins=200)\n",
    "plt.xlabel(r'Distancia angular en segundos de arco')\n",
    "plt.ylabel(r'Frecuencia')\n",
    "# plt.yscale('log')\n",
    "plt.savefig('plots/crossmatch_dist_histogram_arcsec.png', dpi=400)"
   ]
  },
  {
   "cell_type": "markdown",
   "metadata": {},
   "source": [
    "In the graph above, a slight contamination from a \"second\" population is visible around 0.3 arcseconds. To get a cleaner database, we should consider dropping objects with more than one match"
   ]
  },
  {
   "cell_type": "code",
   "execution_count": 74,
   "metadata": {},
   "outputs": [
    {
     "data": {
      "image/png": "[encoded data removed]",
      "text/plain": [
       "<Figure size 432x288 with 1 Axes>"
      ]
     },
     "metadata": {
      "needs_background": "light"
     },
     "output_type": "display_data"
    }
   ],
   "source": [
    "# Visualicemos la distribución de redshifts de la muestra\n",
    "freqs, bins, _ = plt.hist(gxm['redshift'], bins=20)\n",
    "plt.xlabel(r'Redshift');\n",
    "plt.ylabel(r'Frecuencia');"
   ]
  },
  {
   "cell_type": "code",
   "execution_count": 48,
   "metadata": {},
   "outputs": [
    {
     "data": {
      "image/png": "[encoded data removed]",
      "text/plain": [
       "<Figure size 432x288 with 1 Axes>"
      ]
     },
     "metadata": {
      "needs_background": "light"
     },
     "output_type": "display_data"
    }
   ],
   "source": [
    "freqs, bins, _ = plt.hist(gxm['bmag']-gxm['rmag'], bins = 20, histtype='step')\n",
    "freqs, bins, _ = plt.hist(gxm['phot_bp_mean_mag'] - gxm['phot_rp_mean_mag'], bins=20, histtype='step')"
   ]
  },
  {
   "cell_type": "code",
   "execution_count": 67,
   "metadata": {},
   "outputs": [
    {
     "data": {
      "image/png": "[encoded data removed]",
      "text/plain": [
       "<Figure size 432x288 with 1 Axes>"
      ]
     },
     "metadata": {
      "needs_background": "light"
     },
     "output_type": "display_data"
    }
   ],
   "source": [
    "# Color - magnitude diagaram\n",
    "plt.scatter(gxm['bmag'] - gxm['rmag'], gxm['rmag'], s=1)\n",
    "plt.xlabel('MQC B - R');\n",
    "plt.ylabel('MQC R');\n",
    "plt.gca().invert_yaxis()"
   ]
  },
  {
   "cell_type": "code",
   "execution_count": 14,
   "metadata": {},
   "outputs": [
    {
     "name": "stdout",
     "output_type": "stream",
     "text": [
      "There were only 29 multiple matches\n"
     ]
    },
    {
     "data": {
      "image/png": "[encoded data removed]",
      "text/plain": [
       "<Figure size 432x288 with 1 Axes>"
      ]
     },
     "metadata": {
      "needs_background": "light"
     },
     "output_type": "display_data"
    }
   ],
   "source": [
    "# Find duplicate SDSSJ2000+.. names and keep the nearest \n",
    "import astropy.table as table\n",
    "\n",
    "gxm.sort('dist')\n",
    "\n",
    "unique_by_name = table.unique(gxm, keys='name', keep='first')\n",
    "print('There were only {} multiple matches'.format(len(gxm) - len(unique_by_name)))\n",
    "\n",
    "freqs, bins, _ = plt.hist(gxm['dist'] / 0.000277777777778, bins=200)\n",
    "plt.xlabel(r'Distancia angular en segundos de arco');\n",
    "plt.ylabel(r'Frecuencia');"
   ]
  },
  {
   "cell_type": "code",
   "execution_count": 77,
   "metadata": {},
   "outputs": [
    {
     "data": {
      "text/html": [
       "<i>Table masked=True length=205847</i>\n",
       "<table id=\"table140199624606496\" class=\"table-striped table-bordered table-condensed\">\n",
       "<thead><tr><th>broad_mcqxgaia2_oid</th><th>name</th><th>ra</th><th>dec</th><th>rmag</th><th>bmag</th><th>redshift</th><th>broad_type</th><th>source_id</th><th>phot_rp_mean_mag</th><th>phot_bp_mean_mag</th><th>dist</th></tr></thead>\n",
       "<thead><tr><th></th><th></th><th>DEGREE</th><th>DEGREE</th><th>MAG</th><th>MAG</th><th></th><th></th><th></th><th>mag</th><th>mag</th><th></th></tr></thead>\n",
       "<thead><tr><th>int32</th><th>bytes24</th><th>float64</th><th>float64</th><th>float64</th><th>float64</th><th>float64</th><th>bytes10</th><th>int64</th><th>float32</th><th>float32</th><th>float64</th></tr></thead>\n",
       "<tr><td>10</td><td>SDSS J140803.71+433432.4</td><td>212.01548</td><td>43.57569</td><td>14.45</td><td>15.27</td><td>3.2</td><td>Q</td><td>1505330997243862656</td><td>14.360353</td><td>15.1355915</td><td>1.4990659065023714e-05</td></tr>\n",
       "<tr><td>13</td><td>SDSS J215055.61+011517.6</td><td>327.73174</td><td>1.2549</td><td>14.6</td><td>16.02</td><td>2.7</td><td>Q</td><td>2681706596698739840</td><td>15.314851</td><td>15.976641</td><td>1.5239509442446977e-05</td></tr>\n",
       "<tr><td>14</td><td>SDSS J171938.95+382333.4</td><td>259.91229</td><td>38.39264</td><td>14.67</td><td>15.97</td><td>3.4</td><td>Q</td><td>1340514960154622848</td><td>14.132372</td><td>14.998522</td><td>5.023853507749787e-05</td></tr>\n",
       "<tr><td>15</td><td>SDSS J233927.81-001927.7</td><td>354.86592</td><td>-0.32436</td><td>14.67</td><td>16.63</td><td>3.7</td><td>Q</td><td>2642791100620451840</td><td>15.23926</td><td>16.488024</td><td>4.9300098464811566e-05</td></tr>\n",
       "<tr><td>18</td><td>SDSS J124334.36+540557.8</td><td>190.89319</td><td>54.0994</td><td>14.76</td><td>17.01</td><td>3.4</td><td>Q</td><td>1570810900407257984</td><td>15.709311</td><td>16.52896</td><td>1.9621259935873265e-05</td></tr>\n",
       "<tr><td>19</td><td>SDSS J152328.12+043905.1</td><td>230.86718</td><td>4.65142</td><td>14.76</td><td>14.83</td><td>3.1</td><td>Q</td><td>4428522503820615552</td><td>14.620478</td><td>14.678201</td><td>3.989474894481828e-05</td></tr>\n",
       "<tr><td>24</td><td>SDSS J163352.03+000226.1</td><td>248.46682</td><td>0.04059</td><td>14.89</td><td>15.6</td><td>0.9</td><td>Q</td><td>4383466853778414720</td><td>14.1327715</td><td>14.573066</td><td>3.514305894617125e-05</td></tr>\n",
       "<tr><td>26</td><td>SDSS J215144.98-004952.8</td><td>327.93745</td><td>-0.83134</td><td>14.93</td><td>16.67</td><td>2.9</td><td>Q</td><td>2680804241249498368</td><td>14.678741</td><td>15.892462</td><td>3.630617743643769e-05</td></tr>\n",
       "<tr><td>28</td><td>SDSS J155121.13+071357.7</td><td>237.83805</td><td>7.23271</td><td>14.99</td><td>17.91</td><td>0.675</td><td>QRX</td><td>4430088929936610688</td><td>16.050018</td><td>16.604633</td><td>9.411955666266939e-06</td></tr>\n",
       "<tr><td>...</td><td>...</td><td>...</td><td>...</td><td>...</td><td>...</td><td>...</td><td>...</td><td>...</td><td>...</td><td>...</td><td>...</td></tr>\n",
       "<tr><td>231827</td><td>SDSS J235502.98+385123.5</td><td>358.76242</td><td>38.85653</td><td>19.99</td><td>21.11</td><td>1.6</td><td>Q</td><td>2881415287403681664</td><td>19.937792</td><td>20.76613</td><td>2.5645036073095804e-05</td></tr>\n",
       "<tr><td>231828</td><td>SDSS J235508.88-084743.7</td><td>358.78702</td><td>-8.79548</td><td>19.99</td><td>20.23</td><td>1.0</td><td>Q</td><td>2435295350740478592</td><td>19.354849</td><td>19.86085</td><td>3.219221731493831e-05</td></tr>\n",
       "<tr><td>231829</td><td>SDSS J235518.26+164426.7</td><td>358.82611</td><td>16.74077</td><td>19.99</td><td>20.12</td><td>0.9</td><td>Q</td><td>2773213417562298240</td><td>19.731941</td><td>20.392988</td><td>9.249726264294232e-06</td></tr>\n",
       "<tr><td>231830</td><td>SDSS J235554.50+153933.3</td><td>358.97711</td><td>15.65925</td><td>19.99</td><td>20.42</td><td>2.1</td><td>Q</td><td>2772325042229584256</td><td>19.441158</td><td>20.045681</td><td>2.4998382042564993e-05</td></tr>\n",
       "<tr><td>231832</td><td>SDSS J235648.53+123407.8</td><td>359.20224</td><td>12.56885</td><td>19.99</td><td>21.11</td><td>1.8</td><td>Q</td><td>2766804467362595200</td><td>20.07774</td><td>20.924704</td><td>2.842847815845839e-05</td></tr>\n",
       "<tr><td>231834</td><td>SDSS J235800.69+141139.9</td><td>359.50289</td><td>14.19443</td><td>19.99</td><td>20.64</td><td>1.6</td><td>Q</td><td>2770430033938952320</td><td>19.412228</td><td>20.18573</td><td>1.718306315047847e-05</td></tr>\n",
       "<tr><td>231835</td><td>SDSS J235831.72-063850.7</td><td>359.6322</td><td>-6.64744</td><td>19.99</td><td>20.39</td><td>0.4</td><td>Q</td><td>2442718153739176320</td><td>19.486094</td><td>20.060406</td><td>3.398390424430785e-05</td></tr>\n",
       "<tr><td>231836</td><td>SDSS J235834.65+311839.9</td><td>359.64439</td><td>31.3111</td><td>19.99</td><td>20.34</td><td>1.9</td><td>Q</td><td>2873621467948674560</td><td>20.522583</td><td>21.08357</td><td>3.4872333258223156e-05</td></tr>\n",
       "<tr><td>231837</td><td>SDSS J235907.50+003730.7</td><td>359.78128</td><td>0.62521</td><td>19.99</td><td>20.97</td><td>1.064</td><td>QR</td><td>2738273201476990848</td><td>19.4582</td><td>20.45207</td><td>1.640957458032297e-05</td></tr>\n",
       "<tr><td>231838</td><td>SDSS J235907.59+280020.5</td><td>359.78165</td><td>28.00572</td><td>19.99</td><td>21.29</td><td>3.9</td><td>Q</td><td>2854806075218636160</td><td>19.57568</td><td>20.70147</td><td>8.937265520447256e-06</td></tr>\n",
       "</table>"
      ],
      "text/plain": [
       "<Table masked=True length=205847>\n",
       "broad_mcqxgaia2_oid           name           ...          dist         \n",
       "                                             ...                       \n",
       "       int32                bytes24          ...        float64        \n",
       "------------------- ------------------------ ... ----------------------\n",
       "                 10 SDSS J140803.71+433432.4 ... 1.4990659065023714e-05\n",
       "                 13 SDSS J215055.61+011517.6 ... 1.5239509442446977e-05\n",
       "                 14 SDSS J171938.95+382333.4 ...  5.023853507749787e-05\n",
       "                 15 SDSS J233927.81-001927.7 ... 4.9300098464811566e-05\n",
       "                 18 SDSS J124334.36+540557.8 ... 1.9621259935873265e-05\n",
       "                 19 SDSS J152328.12+043905.1 ...  3.989474894481828e-05\n",
       "                 24 SDSS J163352.03+000226.1 ...  3.514305894617125e-05\n",
       "                 26 SDSS J215144.98-004952.8 ...  3.630617743643769e-05\n",
       "                 28 SDSS J155121.13+071357.7 ...  9.411955666266939e-06\n",
       "                ...                      ... ...                    ...\n",
       "             231827 SDSS J235502.98+385123.5 ... 2.5645036073095804e-05\n",
       "             231828 SDSS J235508.88-084743.7 ...  3.219221731493831e-05\n",
       "             231829 SDSS J235518.26+164426.7 ...  9.249726264294232e-06\n",
       "             231830 SDSS J235554.50+153933.3 ... 2.4998382042564993e-05\n",
       "             231832 SDSS J235648.53+123407.8 ...  2.842847815845839e-05\n",
       "             231834 SDSS J235800.69+141139.9 ...  1.718306315047847e-05\n",
       "             231835 SDSS J235831.72-063850.7 ...  3.398390424430785e-05\n",
       "             231836 SDSS J235834.65+311839.9 ... 3.4872333258223156e-05\n",
       "             231837 SDSS J235907.50+003730.7 ...  1.640957458032297e-05\n",
       "             231838 SDSS J235907.59+280020.5 ...  8.937265520447256e-06"
      ]
     },
     "execution_count": 77,
     "metadata": {},
     "output_type": "execute_result"
    }
   ],
   "source": [
    "# As the strategy above did not explain the contamination, I shall\n",
    "# cut the distribution at 0.2\"\n",
    "closest = np.where(gxm['dist'] < 0.2 *0.000277777777778)[0]\n",
    "gxm2 = gxm[closest]\n",
    "gxm2"
   ]
  },
  {
   "cell_type": "markdown",
   "metadata": {},
   "source": [
    "The table ``` dr9Xmqcv52_starts_sdss_name.csv``` was generated with the Vizier TAP service after the following query:\n",
    "```sql\n",
    "SELECT\n",
    "    mqc.Name,\n",
    "    mqc.RAJ2000,\n",
    "    mqc.DEJ2000, mqc.Rmag,\n",
    "    mqc.Bmag, mqc.z,\n",
    "    mqc.Cl,\n",
    "    dr9.objID,\n",
    "    dr9.m_SDSS9,\n",
    "    distance(\n",
    "    POINT('ICRS', mqc.RAJ2000, mqc.DEJ2000),\n",
    "    POINT('ICRS', dr9.RA_ICRS, dr9.DE_ICRS)) AS dist\n",
    "--Note this is the version 5.2 of MQC\n",
    "FROM \"VII/280/catalog\" AS mqc, \"V/139/sdss9\" AS dr9\n",
    "WHERE 1=CONTAINS(\n",
    "POINT('ICRS', mqc.RAJ2000, mqc.DEJ2000),\n",
    "CIRCLE('ICRS', dr9.RA_ICRS, dr9.DE_ICRS, 0.000277777777778) -- 1 arcsecond radius\n",
    ")\n",
    "    AND mqc.Name LIKE 'SDSS%' -- only sources with a SDSS name\n",
    "    AND mqc.Cl LIKE 'Q%' OR mqc.Cl LIKE 'q%' --quasars and photometric quasars\n",
    "```"
   ]
  },
  {
   "cell_type": "code",
   "execution_count": 15,
   "metadata": {},
   "outputs": [],
   "source": [
    "dr9xmqc = Table.read('data/dr9Xmqcv52_starts_sdss_name.csv', format='csv')"
   ]
  },
  {
   "cell_type": "code",
   "execution_count": 16,
   "metadata": {},
   "outputs": [
    {
     "name": "stdout",
     "output_type": "stream",
     "text": [
      "There are 888633 unique sources\n"
     ]
    }
   ],
   "source": [
    "# A lot of SDSS source can share the same mqc.Name, so the next step is\n",
    "# filtering duplicates by keeping the nearest match\n",
    "dr9xmqc.sort('dist')\n",
    "unique_by_name = table.unique(dr9xmqc, keys='Name', keep='first')\n",
    "print('There are {} unique sources'.format(len(unique_by_name)))"
   ]
  },
  {
   "cell_type": "code",
   "execution_count": 115,
   "metadata": {},
   "outputs": [
    {
     "data": {
      "text/plain": [
       "(0, 0.18)"
      ]
     },
     "execution_count": 115,
     "metadata": {},
     "output_type": "execute_result"
    },
    {
     "data": {
      "image/png": "[encoded data removed]",
      "text/plain": [
       "<Figure size 432x288 with 1 Axes>"
      ]
     },
     "metadata": {
      "needs_background": "light"
     },
     "output_type": "display_data"
    }
   ],
   "source": [
    "_, _, _ = plt.hist(unique_by_name['dist'] /0.000277777777778, bins=390)\n",
    "plt.xlim(0, 0.18)"
   ]
  },
  {
   "cell_type": "code",
   "execution_count": 18,
   "metadata": {},
   "outputs": [
    {
     "data": {
      "text/plain": [
       "863123"
      ]
     },
     "execution_count": 18,
     "metadata": {},
     "output_type": "execute_result"
    }
   ],
   "source": [
    "# Some redshifts are NaNs or negative (-1) indicating data not available\n",
    "# How many rows with proper redshifts we have?\n",
    "np.where(unique_by_name['z'] > 0)[0].size"
   ]
  },
  {
   "cell_type": "markdown",
   "metadata": {},
   "source": [
    "The version 5.7 of the Million Quasar catalog is available only via zipped textfile. Astropy methods won't read it so easily because of the missing entries. However, the following excerpt of the Readme explains the fixed width format of the file."
   ]
  },
  {
   "cell_type": "raw",
   "metadata": {},
   "source": [
    "Byte-by-byte Description of the Milliquas (million-quasar) file:\n",
    "--------------------------------------------------------------------------------\n",
    "   Bytes Format Units   Label     Explanations\n",
    "--------------------------------------------------------------------------------\n",
    "   1- 11  F11.7 deg     RA        right ascension J2000 (degrees)(0)\n",
    "  13- 23  F11.7 deg     DEC       declination J2000 (degrees)(0)  \n",
    "  26- 50  A25   ---     Name      ID from the literature, or J2000 (1)\n",
    "  52- 55  A4    ---     Descrip   classification of object, and associations (2)\n",
    "  57- 61  F5.2  mag     Rmag      red optical magnitude (3)\n",
    "  63- 67  F5.2  mag     Bmag      blue optical magnitude (3)\n",
    "  69- 71  A3    ---     Comment   comment on optical object (4)\n",
    "      73  A1    ---     R         red optical PSF class (5)\n",
    "      75  A1    ---     B         blue optical PSF class (5)\n",
    "  77- 82  F6.3  z       Z         redshift from the literature or estimated (6)\n",
    "  84- 89  A6    ---     Cite      citation for name (7)\n",
    "  91- 96  A6    ---     Zcite     citation for redshift (7)\n",
    "  98-100  I3    pct     Qpct      probability that this object is a QSO (8)\n",
    " 102-123  A22   ---     Xname     X-ray ID, if any (9)\n",
    " 125-146  A22   ---     Rname     radio ID, if any (9)\n",
    " 148-169  A22   ---     Lobe1     radio lobe ID or extra R/X ID, if any (9)\n",
    " 171-192  A22   ---     Lobe2     radio lobe ID or extra X-ray ID, if any (9)\n",
    "--------------------------------------------------------------------------------"
   ]
  },
  {
   "cell_type": "markdown",
   "metadata": {},
   "source": [
    "For the ease of reading the file I converted it into a CSV file via the following commands:"
   ]
  },
  {
   "cell_type": "code",
   "execution_count": null,
   "metadata": {},
   "outputs": [],
   "source": [
    "!cat data/milliquas.txt | cut  -b 1-11,13-23,26-50,52-55,57-61,63-67,69-71,73,75,77-82,84-89,91-96,98-100,102-123,125-146,148-169,171-192 --output-delimiter=, > data/milliquas.csv\n",
    "!echo \"ra,dec,name,descrip,rmag,bmag,comment,r,b,z,cite,zcite,qpct,xname,rname,lobe1,lobe2\" | cat - data/milliquas.csv > temp && mv temp data/milliquas.csv\n",
    "!sed -i 's/A,B/AB/g' data/milliquas.csv #A few rows contain this pattern, that will break the loading"
   ]
  },
  {
   "cell_type": "code",
   "execution_count": 2,
   "metadata": {},
   "outputs": [],
   "source": [
    "milliquas = Table.read('data/milliquas.csv', format='csv')"
   ]
  },
  {
   "cell_type": "code",
   "execution_count": 6,
   "metadata": {},
   "outputs": [
    {
     "name": "stdout",
     "output_type": "stream",
     "text": [
      "522186\n"
     ]
    }
   ],
   "source": [
    "# How many spectroscopically confirmed quasars from SDSS?\n",
    "count = 0\n",
    "for row in milliquas:\n",
    "    if 'SDSS' in row['name'] and 'Q' in row['descrip']:\n",
    "        count += 1\n",
    "print(count)"
   ]
  },
  {
   "cell_type": "markdown",
   "metadata": {},
   "source": [
    "The spectra used to confirm those quasars, are they from SDSS also?"
   ]
  },
  {
   "cell_type": "markdown",
   "metadata": {},
   "source": [
    "-------------------------------------------\n",
    "Instead of messing with multiple crossmatches and id-matches just to get the SDSS quasar spectra IDs and then hopefully download them, it is easier to take a look at the [SDSS DR14 Quasar catalog](https://arxiv.org/abs/1712.05029), which is a list of spectroscopically confirmed quasars within SDSS data and provides pointers to each corresponding spectrum. Most of the confirmed quasars in MILLIQUAS were retrieved from this catalog. "
   ]
  },
  {
   "cell_type": "code",
   "execution_count": 12,
   "metadata": {},
   "outputs": [
    {
     "name": "stderr",
     "output_type": "stream",
     "text": [
      "WARNING: UnitsWarning: 'erg/s/cm2' contains multiple slashes, which is discouraged by the FITS standard [astropy.units.format.generic]\n",
      "WARNING: UnitsWarning: 'W/m2/Hz' contains multiple slashes, which is discouraged by the FITS standard [astropy.units.format.generic]\n"
     ]
    },
    {
     "data": {
      "text/plain": [
       "526356"
      ]
     },
     "execution_count": 12,
     "metadata": {},
     "output_type": "execute_result"
    }
   ],
   "source": [
    "dr14q = Table.read('data/DR14Q_v4_4.fits')\n",
    "relevant = dr14q['PLATE', 'MJD', 'FIBERID'] # These numbers are the unique identifiers of an SDSS spectrum\n",
    "relevant.write('data/speclist.txt', format='ascii')"
   ]
  },
  {
   "cell_type": "markdown",
   "metadata": {},
   "source": [
    "Using ```awk```, we apply zero-padding to each column to match the specification of the [data model](https://data.sdss.org/datamodel/files/BOSS_SPECTRO_REDUX/RUN2D/spectra/PLATE4/spec.html), also construct the actual filenames\n",
    "that must be downloaded."
   ]
  },
  {
   "cell_type": "code",
   "execution_count": 10,
   "metadata": {},
   "outputs": [],
   "source": [
    "!awk '{printf \"%04i/spec-%04i-%05i-%04i.fits\\n\", $1, $1, $2, $3}' data/speclist.txt  > data/filelist.txt\n",
    "!sed -i '1d' data/filelist.txt  # Remove first line (all zeros)"
   ]
  },
  {
   "cell_type": "code",
   "execution_count": 11,
   "metadata": {},
   "outputs": [
    {
     "name": "stdout",
     "output_type": "stream",
     "text": [
      "7596/spec-7596-56945-0162.fits\n",
      "8740/spec-8740-57367-0694.fits\n",
      "6177/spec-6177-56268-0595.fits\n",
      "4415/spec-4415-55831-0464.fits\n",
      "7666/spec-7666-57339-0121.fits\n",
      "4354/spec-4354-55810-0678.fits\n",
      "4354/spec-4354-55810-0646.fits\n",
      "6110/spec-6110-56279-0086.fits\n",
      "7595/spec-7595-56957-0273.fits\n",
      "7850/spec-7850-56956-0711.fits\n"
     ]
    }
   ],
   "source": [
    "!head data/filelist.txt"
   ]
  },
  {
   "cell_type": "markdown",
   "metadata": {},
   "source": [
    "The following command ([see this guide](https://www.sdss.org/dr15/data_access/bulk/)) will download all the full-size spectra files from DR14Q sources into the ```/path/to/folder``` directory:\n",
    "\n",
    "```sh\n",
    "wget  -nd -v -r -nH --cut-dirs=7 \\\n",
    "-i filelist.txt \\\n",
    "-B https://data.sdss.org/sas/dr15/eboss/spectro/redux/v5_10_0/spectra/ -P /path/to/folder\n",
    "```"
   ]
  },
  {
   "cell_type": "code",
   "execution_count": null,
   "metadata": {},
   "outputs": [],
   "source": []
  }
 ],
 "metadata": {
  "kernelspec": {
   "display_name": "Python 3",
   "language": "python",
   "name": "python3"
  },
  "language_info": {
   "codemirror_mode": {
    "name": "ipython",
    "version": 3
   },
   "file_extension": ".py",
   "mimetype": "text/x-python",
   "name": "python",
   "nbconvert_exporter": "python",
   "pygments_lexer": "ipython3",
   "version": "3.7.1"
  }
 },
 "nbformat": 4,
 "nbformat_minor": 2
}
