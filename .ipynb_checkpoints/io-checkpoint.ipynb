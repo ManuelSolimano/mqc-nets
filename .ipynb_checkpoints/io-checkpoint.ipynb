{
 "cells": [
  {
   "cell_type": "markdown",
   "metadata": {},
   "source": [
    "In this notebook I try and test different I/O methods to read fits files to load the spectra. I also look a good way to subsample the spectra."
   ]
  },
  {
   "cell_type": "code",
   "execution_count": 1,
   "metadata": {},
   "outputs": [],
   "source": [
    "import numpy as np\n",
    "import fitsio\n",
    "from fitsio import FITS, FITSHDR\n",
    "from astropy.table import Table\n",
    "import matplotlib.pyplot as plt\n",
    "import pipeline as io\n",
    "%matplotlib inline\n",
    "%load_ext autoreload\n",
    "%autoreload 2"
   ]
  },
  {
   "cell_type": "code",
   "execution_count": 2,
   "metadata": {},
   "outputs": [
    {
     "name": "stderr",
     "output_type": "stream",
     "text": [
      "testNonStandardKeyValue (fitsio.test.TestWarnings) ... ok\n",
      "\n",
      "----------------------------------------------------------------------\n",
      "Ran 1 test in 0.007s\n",
      "\n",
      "OK\n",
      "testAsciiTableWriteRead (fitsio.test.TestReadWrite) ... ok\n",
      "testBz2Read (fitsio.test.TestReadWrite) ... ok\n",
      "testChecksum (fitsio.test.TestReadWrite) ... ok\n",
      "testExtVer (fitsio.test.TestReadWrite) ... ok\n",
      "testGZIP2TileCompressedWriteRead (fitsio.test.TestReadWrite) ... ok\n",
      "testGZIPTileCompressedWriteRead (fitsio.test.TestReadWrite) ... ok\n",
      "testGZWriteRead (fitsio.test.TestReadWrite) ... ok\n",
      "testHCompressTileCompressedWriteRead (fitsio.test.TestReadWrite) ... ok\n",
      "testHeaderContinue (fitsio.test.TestReadWrite) ... ok\n",
      "testHeaderWriteRead (fitsio.test.TestReadWrite) ... ok\n",
      "testImageSlice (fitsio.test.TestReadWrite) ... ok\n",
      "testImageWriteEmpty (fitsio.test.TestReadWrite) ... ok\n",
      "testImageWriteRead (fitsio.test.TestReadWrite) ... ok\n",
      "testImageWriteReadFromDims (fitsio.test.TestReadWrite) ... ok\n",
      "testImageWriteReadFromDimsChunks (fitsio.test.TestReadWrite) ... ok\n",
      "testLowerUpper (fitsio.test.TestReadWrite) ... ok\n",
      "testMoveByName (fitsio.test.TestReadWrite) ... ok\n",
      "testPLIOTileCompressedWriteRead (fitsio.test.TestReadWrite) ... ok\n",
      "testReadRaw (fitsio.test.TestReadWrite) ... ok\n",
      "testRiceTileCompressedWriteRead (fitsio.test.TestReadWrite) ... ok\n",
      "testSlice (fitsio.test.TestReadWrite) ... ok\n",
      "testTableAppend (fitsio.test.TestReadWrite) ... ok\n",
      "testTableBitcolAppend (fitsio.test.TestReadWrite) ... ok\n",
      "testTableBitcolReadWrite (fitsio.test.TestReadWrite) ... ok\n",
      "testTableDeleteRowRange (fitsio.test.TestReadWrite) ... ok\n",
      "testTableDeleteRows (fitsio.test.TestReadWrite) ... ok\n",
      "testTableFormatColumnSubset (fitsio.test.TestReadWrite) ... ok\n",
      "testTableInsertColumn (fitsio.test.TestReadWrite) ... ok\n",
      "testTableIter (fitsio.test.TestReadWrite) ... ok\n",
      "testTableResize (fitsio.test.TestReadWrite) ... ok\n",
      "testTableSubsets (fitsio.test.TestReadWrite) ... ok\n",
      "testTableWriteDictOfArrays (fitsio.test.TestReadWrite) ... ok\n",
      "testTableWriteDictOfArraysScratch (fitsio.test.TestReadWrite) ... ok\n",
      "testTableWriteDictOfArraysVar (fitsio.test.TestReadWrite) ... ok\n",
      "testTableWriteListOfArrays (fitsio.test.TestReadWrite) ... ok\n",
      "testTableWriteListOfArraysScratch (fitsio.test.TestReadWrite) ... ok\n",
      "testTableWriteListOfArraysVar (fitsio.test.TestReadWrite) ... ok\n",
      "testTableWriteRead (fitsio.test.TestReadWrite) ... ok\n",
      "testTrimStrings (fitsio.test.TestReadWrite) ... ok\n",
      "testVariableLengthColumns (fitsio.test.TestReadWrite) ... ok\n",
      "testWriteKeyDict (fitsio.test.TestReadWrite) ... ok\n",
      "\n",
      "----------------------------------------------------------------------\n",
      "Ran 41 tests in 0.767s\n",
      "\n",
      "OK\n"
     ]
    }
   ],
   "source": [
    "# Check fitsio was properly installed\n",
    "fitsio.test.test()"
   ]
  },
  {
   "cell_type": "code",
   "execution_count": 63,
   "metadata": {},
   "outputs": [
    {
     "name": "stdout",
     "output_type": "stream",
     "text": [
      "CPU times: user 84 ms, sys: 15 µs, total: 84 ms\n",
      "Wall time: 85.7 ms\n"
     ]
    }
   ],
   "source": [
    "%%time \n",
    "filename = 'data/spectra1000/spec-4216-55477-0204.fits'\n",
    "data = np.array(Table.read(filename, hdu=1)['loglam','flux'])\n",
    "# Astropy unified fits io"
   ]
  },
  {
   "cell_type": "code",
   "execution_count": 4,
   "metadata": {},
   "outputs": [
    {
     "name": "stdout",
     "output_type": "stream",
     "text": [
      "CPU times: user 20.4 ms, sys: 3.39 ms, total: 23.7 ms\n",
      "Wall time: 33.1 ms\n"
     ]
    }
   ],
   "source": [
    "%%time\n",
    "filename = 'data/spectra1000/spec-4216-55477-0234.fits'\n",
    "data = fitsio.read(filename, columns=['loglam','flux'])\n",
    "# Fitio input utility"
   ]
  },
  {
   "cell_type": "markdown",
   "metadata": {},
   "source": [
    "Apparently, the ```fitsio``` library is a little faster. Also, it returns a numpy array directly, rather than a heavy astropy Table"
   ]
  },
  {
   "cell_type": "markdown",
   "metadata": {},
   "source": [
    "------------------------\n",
    "Guess: loading the ```loglam``` column is unnecessary because it's always the same array. We need to verify this."
   ]
  },
  {
   "cell_type": "code",
   "execution_count": 17,
   "metadata": {},
   "outputs": [
    {
     "name": "stdout",
     "output_type": "stream",
     "text": [
      "3.5587 4.0168 4582\n",
      "3.5522 4.0141 4620\n",
      "3.5521 4.0148 4628\n",
      "3.5511 4.0145 4635\n",
      "3.5522 4.0141 4620\n",
      "3.5597 4.0163 4567\n",
      "3.5582 4.0165 4584\n",
      "3.5517 4.0143 4627\n",
      "3.5574 4.0153 4580\n",
      "3.5521 4.0139 4619\n",
      "Higher left endoint: 3.5597000122070312\n",
      "Lower right endpoint: 4.013899803161621\n"
     ]
    }
   ],
   "source": [
    "from glob import glob\n",
    "filelist = glob('data/spectra1000/*.fits')\n",
    "mins, maxs = [], []            \n",
    "for file in filelist[:10]: # Loop first 10 files\n",
    "    lam = fitsio.read(file, ext=1, columns='loglam')\n",
    "    mins.append(lam.min())\n",
    "    maxs.append(lam.max())\n",
    "    print(lam.min(), lam.max(), lam.size)\n",
    "print('Higher left endoint: {}'.format(max(mins)))\n",
    "print('Lower right endpoint: {}'.format(min(maxs)))"
   ]
  },
  {
   "cell_type": "markdown",
   "metadata": {},
   "source": [
    "Clearly, I was wrong. Every file has its own length and the wavelength limits are not the same"
   ]
  },
  {
   "cell_type": "markdown",
   "metadata": {},
   "source": [
    "Now let's try downsampling the spectrum (because 4000 points would need too much memory and training will be slow)"
   ]
  },
  {
   "cell_type": "code",
   "execution_count": 13,
   "metadata": {},
   "outputs": [
    {
     "name": "stdout",
     "output_type": "stream",
     "text": [
      "3.5520999431610107 4.0137076809202465\n"
     ]
    },
    {
     "data": {
      "image/png": "[encoded data removed]",
      "text/plain": [
       "<Figure size 1080x360 with 2 Axes>"
      ]
     },
     "metadata": {
      "needs_background": "light"
     },
     "output_type": "display_data"
    }
   ],
   "source": [
    "from scipy.signal import resample\n",
    "\n",
    "data = fitsio.read(filename, ext=1, columns=['loglam','flux'])\n",
    "# WATCH OUT: The endianness of the arrays must be set to little endian\n",
    "# before using scipy.signal subsample\n",
    "loglam = np.asarray(data['loglam'], dtype=np.dtype('<f4'))\n",
    "flux = np.asarray(data['flux'], dtype=np.dtype('<f4'))\n",
    "\n",
    "# This is very easy, but behind the scenes is using an\n",
    "# FFT so I don't know if this will scale reasonably\n",
    "sub_flux, sub_loglam = resample(flux, 503, t=loglam)\n",
    "\n",
    "fig, ax = plt.subplots(nrows=1, ncols=2, sharey=True, figsize=(15,5))\n",
    "ax[0].plot(sub_loglam, sub_flux)\n",
    "ax[1].plot(data['loglam'], data['flux'])\n",
    "ax[0].set_xlabel(r'Wavelength $\\log_{10}(\\AA)$')\n",
    "ax[1].set_xlabel(r'Wavelength $\\log_{10}(\\AA)$')\n",
    "ax[0].set_ylabel(r'Flux $10^{-17}$ ergs/s/cm$^2$/$\\AA$')\n",
    "ax[0].set_title(r'Subsampled spectrum (503 data points)')\n",
    "ax[1].set_title(r'Spectrum with original sampling ({} data points)'.format(len(flux)))\n",
    "# print(sub_loglam.min(), sub_loglam.max())"
   ]
  },
  {
   "cell_type": "markdown",
   "metadata": {},
   "source": [
    "As we can see, in the subsampled spectrum the noise is greatly reduced while still showing the main features.\n",
    "Now, as we saw earlier, the wavelength endopoints do not coincide for every spectrum. Hence, I would wish to standarize the spectra in a single wavelength axis for all of the data. This can be achieved through interpolation."
   ]
  },
  {
   "cell_type": "code",
   "execution_count": 33,
   "metadata": {},
   "outputs": [
    {
     "name": "stdout",
     "output_type": "stream",
     "text": [
      "Execution times: \n",
      "Method 1: 1.7147064208984375 milliseconds\n",
      "Method 2: 0.2701282501220703 milliseconds\n"
     ]
    },
    {
     "data": {
      "image/png": "[encoded data removed]",
      "text/plain": [
       "<Figure size 1080x360 with 2 Axes>"
      ]
     },
     "metadata": {
      "needs_background": "light"
     },
     "output_type": "display_data"
    }
   ],
   "source": [
    "from scipy.interpolate import interp1d\n",
    "from time import time\n",
    "\n",
    "# Let's say we want to restrict the spectrum to the interval 3.56-4.01\n",
    "ispec = interp1d(loglam, flux, kind='cubic')\n",
    "\n",
    "# Method 1:\n",
    "start1 = time()\n",
    "loglam_1_int = np.linspace(3.56, 4.01, len(loglam), endpoint=True)\n",
    "flux_1_int  = ispec(loglam_1_int)\n",
    "sub_flux_1_int,  sub_loglam_1_int = resample(flux_1_int, t=loglam_1_int, num=503)\n",
    "time_taken1 = time() - start1\n",
    "\n",
    "# Method 2:\n",
    "start2 = time()\n",
    "sub_loglam_2_int = np.linspace(3.56, 4.01, 503, endpoint=True)\n",
    "sub_flux_2_int = ispec(sub_loglam_2_int)\n",
    "time_taken2 = time() - start2\n",
    "\n",
    "# Plot results\n",
    "fig, ax = plt.subplots(nrows=1, ncols=2,sharey=True, figsize=(15,5))\n",
    "ax[0].plot(sub_loglam_1_int, sub_flux_1_int)\n",
    "ax[1].plot(sub_loglam_2_int, sub_flux_2_int)\n",
    "ax[0].set_xlabel(r'Wavelength $\\log_{10}(\\AA)$')\n",
    "ax[1].set_xlabel(r'Wavelength $\\log_{10}(\\AA)$')\n",
    "ax[0].set_ylabel(r'Flux $10^{-17}$ ergs/s/cm$^2$/$\\AA$')\n",
    "ax[0].set_title('Interpolation and resampling method 1')\n",
    "ax[1].set_title('Interpolation and resampling method 2');\n",
    "print('Execution times: ')\n",
    "print('Method 1: {} milliseconds'.format(time_taken1 * 1e3))\n",
    "print('Method 2: {} milliseconds'.format(time_taken2 * 1e3))"
   ]
  },
  {
   "cell_type": "markdown",
   "metadata": {},
   "source": [
    "Here we have two choices:\n",
    "1. Interpolating  with the same number of points and then resampling afterwards\n",
    "2. Interpolating and resampling directly with ```interp1d```\n",
    "\n",
    "\n",
    "While the second one may seem quicker, the first may be more robust. For this reason, I finally implemented the first method wrapped in a utility function in the ```pipeline.py``` module"
   ]
  },
  {
   "cell_type": "code",
   "execution_count": 3,
   "metadata": {},
   "outputs": [
    {
     "data": {
      "image/png": "[encoded data removed]",
      "text/plain": [
       "<Figure size 1008x288 with 2 Axes>"
      ]
     },
     "metadata": {
      "needs_background": "light"
     },
     "output_type": "display_data"
    }
   ],
   "source": [
    "# %autoreload 2\n",
    "import pipeline as io\n",
    "spec = fitsio.read('data/spectra1000/spec-4216-55477-0210.fits', columns=['flux', 'loglam'], dtype=np.float32)\n",
    "reduced_spec = io.crop_and_subsample(spec, 503, (3.56, 4.01))\n",
    "\n",
    "fig, ax = plt.subplots(nrows=2, ncols=1, figsize=(14, 4), sharey=True)\n",
    "ax[0].plot(spec['loglam'], spec['flux'])\n",
    "ax[1].plot(np.linspace(3.56, 4.01, 503, endpoint=True), reduced_spec)\n",
    "ax[1].set_xlabel(r'Wavelength $\\log_{10}(\\AA)$')\n",
    "ax[0].set_ylabel(r'Flux $10^{-17}$ ergs/s/cm$^2$/$\\AA$')\n",
    "ax[1].set_ylabel(r'Cropped and subsampled flux');\n"
   ]
  },
  {
   "cell_type": "markdown",
   "metadata": {},
   "source": [
    "-------\n",
    "The next thing to incorporate to the pipeline is the renormalization. Following [Busca (2018)](https://arxiv.org/abs/1808.09955):\n",
    ">Large variations in the\n",
    "inputs to neural networks, in our case due to the distribution\n",
    "of quasar luminosity, are known to slow down learning. To\n",
    "reduce this problem we renormalize spectra by subtracting\n",
    "to each flux its weighted mean and dividing the result by\n",
    "its weighted root-mean-square, using the inverse variances\n",
    "available with each spectrum as weights.\n",
    "\n",
    "I interpret this as the the following. If $f_i$ is the $i-$th flux point and $1/\\sigma_i^2$ it's corresponding inverse variance, then the renormalized flux $f_i^{\\prime}$ is \n"
   ]
  },
  {
   "cell_type": "code",
   "execution_count": 64,
   "metadata": {},
   "outputs": [
    {
     "data": {
      "text/latex": [
       "\\begin{equation}\n",
       " f_i^{\\prime} = \\frac{f_i(1 - 1/\\sigma_i^2)}{\\sqrt{\\sum_{j}{\\frac{f_i^2}{\\sigma_j^2}}}}\n",
       "\\end{equation}\n"
      ],
      "text/plain": [
       "<IPython.core.display.Latex object>"
      ]
     },
     "metadata": {},
     "output_type": "display_data"
    }
   ],
   "source": [
    "%%latex\n",
    "\\begin{equation}\n",
    " f_i^{\\prime} = \\frac{f_i(1 - 1/\\sigma_i^2)}{\\sqrt{\\sum_{j}{\\frac{f_i^2}{\\sigma_j^2}}}}\n",
    "\\end{equation}"
   ]
  },
  {
   "cell_type": "markdown",
   "metadata": {},
   "source": [
    "Of course, this has to be done before resampling"
   ]
  },
  {
   "cell_type": "code",
   "execution_count": 2,
   "metadata": {},
   "outputs": [
    {
     "data": {
      "image/png": "[encoded data removed]",
      "text/plain": [
       "<Figure size 1008x288 with 2 Axes>"
      ]
     },
     "metadata": {
      "needs_background": "light"
     },
     "output_type": "display_data"
    }
   ],
   "source": [
    "data = fitsio.read('data/spectra1000/spec-4216-55477-0202.fits', columns=['loglam', 'flux', 'ivar'], dtype=np.float32)\n",
    "normflux = (data['flux'] - data['flux'] * data['ivar']) / np.sqrt(np.sum(data['ivar'] * data['flux'] ** 2))\n",
    "\n",
    "fig, ax = plt.subplots(nrows=2, ncols=1, figsize=(14, 4))\n",
    "ax[0].plot(data['loglam'], data['flux'])\n",
    "ax[1].plot(data['loglam'], normflux)\n",
    "ax[1].set_xlabel(r'Wavelength $\\log_{10}(\\AA)$')\n",
    "ax[0].set_ylabel(r'Flux $10^{-17}$ ergs/s/cm$^2$/$\\AA$')\n",
    "ax[1].set_ylabel(r'Normalized flux v.1');"
   ]
  },
  {
   "cell_type": "markdown",
   "metadata": {},
   "source": [
    "This doesn't look good. The normalization seems to produce a noisier spectrum and worse is that __emission lines were turned into absorption lines!!__   \n",
    "  A possible fix is to just invert the overall sign..."
   ]
  },
  {
   "cell_type": "code",
   "execution_count": 3,
   "metadata": {},
   "outputs": [
    {
     "data": {
      "text/plain": [
       "[<matplotlib.lines.Line2D at 0x7ff56a529da0>]"
      ]
     },
     "execution_count": 3,
     "metadata": {},
     "output_type": "execute_result"
    },
    {
     "data": {
      "image/png": "[encoded data removed]",
      "text/plain": [
       "<Figure size 432x288 with 1 Axes>"
      ]
     },
     "metadata": {
      "needs_background": "light"
     },
     "output_type": "display_data"
    }
   ],
   "source": [
    "plt.plot(data['loglam'], -normflux)"
   ]
  },
  {
   "cell_type": "markdown",
   "metadata": {},
   "source": [
    "This is still not satisfactory, so taking a quick glance at the [QuasarNET code](https://github.com/ngbusca/QuasarNET/blob/master/py/quasarnet/io.py) I found they were doing something like this:"
   ]
  },
  {
   "cell_type": "code",
   "execution_count": 6,
   "metadata": {},
   "outputs": [
    {
     "data": {
      "image/png": "[encoded data removed]",
      "text/plain": [
       "<Figure size 1008x288 with 2 Axes>"
      ]
     },
     "metadata": {
      "needs_background": "light"
     },
     "output_type": "display_data"
    }
   ],
   "source": [
    "data = fitsio.read('data/spectra1000/spec-4296-55499-0684.fits', columns=['loglam', 'flux', 'ivar'], dtype=np.float32)\n",
    "\n",
    "mdata = np.average(data['flux'], weights = data['ivar'])\n",
    "sdata = np.average((data['flux'] - mdata) ** 2, weights = data['ivar'])\n",
    "sdata = np.sqrt(sdata)\n",
    "\n",
    "# This is for removing points with zero flux \n",
    "w = sdata == 0\n",
    "data['flux'] = data['flux'][~w]\n",
    "mdata = mdata[~w]\n",
    "sdata = sdata[~w]\n",
    "# -------------------------------------------\n",
    "normflux = data['flux'] - mdata\n",
    "normflux /= sdata\n",
    "\n",
    "\n",
    "fig, ax = plt.subplots(nrows=2, ncols=1, figsize=(14, 4))\n",
    "ax[0].plot(data['loglam'], data['flux'])\n",
    "ax[1].plot(data['loglam'], normflux)\n",
    "ax[1].set_xlabel(r'Wavelength $\\log_{10}(\\AA)$')\n",
    "ax[0].set_ylabel(r'Flux $10^{-17}$ ergs/s/cm$^2$/$\\AA$')\n",
    "ax[1].set_ylabel(r'Normalized flux v.2');"
   ]
  },
  {
   "cell_type": "markdown",
   "metadata": {},
   "source": [
    "Ahh this looks much better!"
   ]
  },
  {
   "cell_type": "markdown",
   "metadata": {},
   "source": [
    "## Alternative normalization"
   ]
  },
  {
   "cell_type": "code",
   "execution_count": 10,
   "metadata": {},
   "outputs": [
    {
     "data": {
      "text/plain": [
       "[<matplotlib.lines.Line2D at 0x7f1f078bbb70>]"
      ]
     },
     "execution_count": 10,
     "metadata": {},
     "output_type": "execute_result"
    },
    {
     "data": {
      "image/png": "[encoded data removed]",
      "text/plain": [
       "<Figure size 432x288 with 1 Axes>"
      ]
     },
     "metadata": {
      "needs_background": "light"
     },
     "output_type": "display_data"
    }
   ],
   "source": [
    "data = fitsio.read('data/starboss/spec-3586-55181-0071.fits', columns=['loglam', 'flux', 'ivar'], dtype=np.float32)\n",
    "\n",
    "normflux = data['flux'] / data['flux'].max()\n",
    "plt.plot(data['loglam'], normflux)"
   ]
  },
  {
   "cell_type": "markdown",
   "metadata": {},
   "source": [
    "This is easier and faster, so I'll stick with this method as the default by now."
   ]
  },
  {
   "cell_type": "markdown",
   "metadata": {},
   "source": [
    "-----\n",
    "### Truth vector retrieval\n",
    "\n",
    "We would need to produce a truth vector for every source, indicating wether the source is a quasar or not. Luckily, the [DR14Q catalog](https://www.sdss.org/dr14/algorithms/qso_catalog/) \"only contains secure identifications (i.e. QSO and QSO_BAL)\". This means we only have two quasar classes. "
   ]
  },
  {
   "cell_type": "raw",
   "metadata": {},
   "source": [
    "A unique bit-encoded 64-bit ID used for optical spectroscopic objects. (APOGEE targets are assigned an \"apogee_id\" ID). It is generated from plateid, mjd, and fiberid. It is completely independent of any photometric enumeration system. It needs to be cast as unsigned 64-bit, though in many files we waste a few bytes and write it as an string to avoid FITS compliance issues.The bits are assigned in SpecObjID as follows:\n",
    "\n",
    "50-63\n",
    "    plate id number (14 bits)\n",
    "38-49\n",
    "    fiber id number (12 bits)\n",
    "24-37\n",
    "    MJD (date) of plugging minus 50000 (14 bits)\n",
    "10-23\n",
    "    \"run2d\" rerun number of pipeline reduction (14 bits)\n",
    "0-9\n",
    "    all 0 (10 bits)\n",
    "\n",
    "Note that even though the effective \"run2d\" value for many plates are the same as in DR7, this definition of specObjID is different than that in DR7.\n",
    "\n",
    "run2d can be an integer, like 26, or a string of the form 'vN_M_P', where N, M and P are integers, with the restriction 5≤N≤6, 0≤M≤99, and 0≤P≤99. This is understood to be the run2d value for a spectrum. In the latter case, the 14 bits corresponding to run2d are filled with (N-5)*10000+M*100+P."
   ]
  },
  {
   "cell_type": "code",
   "execution_count": 30,
   "metadata": {},
   "outputs": [
    {
     "name": "stdout",
     "output_type": "stream",
     "text": [
      "299489676975171584\n",
      "299489676975171584\n"
     ]
    }
   ],
   "source": [
    "# The hash function to produce the specObjid number was implemented in the pipeline.py file\n",
    "import pipeline as io\n",
    "print(io.hash_specid(266,51602,1,26))\n",
    "print(299489676975171584)  #Taken from DR15:dbo.fSpecidFromSDSS"
   ]
  },
  {
   "cell_type": "markdown",
   "metadata": {},
   "source": [
    "Both numbers are equal. We now construct a file containing all SpecObjIDs of DR14Q objects, to later build or truth lookup table"
   ]
  },
  {
   "cell_type": "code",
   "execution_count": 6,
   "metadata": {},
   "outputs": [],
   "source": [
    "def run2d_from_spectro(spectro):\n",
    "    if spectro == 'BOSS':\n",
    "        return 'v5_10_0'\n",
    "    elif spectro == 'SDSS':\n",
    "        return 26\n",
    "\n",
    "\n",
    "dr14q = Table.read('data/DR14Q_v4_4.fits')\n",
    "with open('data/dr14q_specids.txt', 'w') as outfile:\n",
    "    for i, qso in enumerate(dr14q):\n",
    "        specid = io.hash_specid(qso['PLATE'], qso['MJD'], qso['FIBERID'], run2d_from_spectro(qso['SPECTRO']))\n",
    "        outfile.write('{:d}\\n'.format(specid))\n",
    "        \n",
    "# This file will contain all specObjIDs from the DR14Q catalog"
   ]
  },
  {
   "cell_type": "code",
   "execution_count": 28,
   "metadata": {},
   "outputs": [
    {
     "name": "stdout",
     "output_type": "stream",
     "text": [
      "8836077429061558272\n",
      "6926539628846489600\n",
      "8631380805938028544\n",
      "6960417781557731328\n",
      "8631184543112470528\n",
      "7330985091827474432\n",
      "8044620915265216512\n",
      "9841507702370443264\n",
      "8551281102567743488\n",
      "8044626962579169280\n"
     ]
    }
   ],
   "source": [
    "!tail data/dr14q_specids.txt "
   ]
  },
  {
   "cell_type": "code",
   "execution_count": 25,
   "metadata": {},
   "outputs": [],
   "source": [
    "KNOWN_QSOS = np.loadtxt('data/dr14q_specids.txt', dtype=np.uint64)"
   ]
  },
  {
   "cell_type": "code",
   "execution_count": 31,
   "metadata": {},
   "outputs": [
    {
     "name": "stdout",
     "output_type": "stream",
     "text": [
      "CPU times: user 977 µs, sys: 44 µs, total: 1.02 ms\n",
      "Wall time: 674 µs\n"
     ]
    },
    {
     "data": {
      "text/plain": [
       "False"
      ]
     },
     "execution_count": 31,
     "metadata": {},
     "output_type": "execute_result"
    }
   ],
   "source": [
    "%%time\n",
    "9841507702370442264 in known_qsos"
   ]
  },
  {
   "cell_type": "markdown",
   "metadata": {},
   "source": [
    "There is no need to repeat this process for BOSS stars, because the ```dr15stars_boss_masolimano.csv``` file includes SpecObjIDs"
   ]
  },
  {
   "cell_type": "code",
   "execution_count": 35,
   "metadata": {},
   "outputs": [
    {
     "name": "stdout",
     "output_type": "stream",
     "text": [
      "specObjID,plate,mjd,fiberID,run2d,ra,dec,z_person\n",
      "4106383557412233216,3647,55827,824,v5_10_0,37.505807,1.2179885,0\n",
      "4110668344494891008,3651,55247,28,v5_10_0,42.335238,-0.26853344,0\n",
      "4110672192785588224,3651,55247,42,v5_10_0,41.761256,-1.2088444,0\n",
      "4110672742541402112,3651,55247,44,v5_10_0,41.809844,-1.2265011,0\n",
      "4110675766198378496,3651,55247,55,v5_10_0,41.864476,-0.76784226,0\n",
      "4110678240099540992,3651,55247,64,v5_10_0,42.142978,-0.31044313,0\n",
      "4110679889366982656,3651,55247,70,v5_10_0,42.259116,-0.17256063,0\n",
      "4110687036192563200,3651,55247,96,v5_10_0,42.025064,-0.070037997,0\n",
      "4110688960337911808,3651,55247,103,v5_10_0,41.584526,-1.055747,0\n"
     ]
    }
   ],
   "source": [
    "!head data/dr15stars_boss_masolimano.csv"
   ]
  },
  {
   "cell_type": "code",
   "execution_count": 38,
   "metadata": {},
   "outputs": [],
   "source": [
    "KNOWN_STARS = np.loadtxt('data/dr15stars_boss_types.csv', dtype=np.uint64, delimiter=',', skiprows=1, usecols=0)"
   ]
  },
  {
   "cell_type": "code",
   "execution_count": 39,
   "metadata": {},
   "outputs": [
    {
     "name": "stdout",
     "output_type": "stream",
     "text": [
      "CPU times: user 808 µs, sys: 37 µs, total: 845 µs\n",
      "Wall time: 466 µs\n"
     ]
    },
    {
     "data": {
      "text/plain": [
       "True"
      ]
     },
     "execution_count": 39,
     "metadata": {},
     "output_type": "execute_result"
    }
   ],
   "source": [
    "%%time\n",
    "4110687036192563200 in known_stars"
   ]
  },
  {
   "cell_type": "code",
   "execution_count": 43,
   "metadata": {},
   "outputs": [],
   "source": [
    "all_specids = np.concatenate([known_qsos, known_stars])\n",
    "np.savetxt('data/all_specids.txt', all_specids, fmt='%i')"
   ]
  },
  {
   "cell_type": "code",
   "execution_count": 78,
   "metadata": {},
   "outputs": [
    {
     "data": {
      "text/plain": [
       "array([1., 0.])"
      ]
     },
     "execution_count": 78,
     "metadata": {},
     "output_type": "execute_result"
    }
   ],
   "source": [
    "from pipeline import hash_specid\n",
    "def tell_the_truth(filename):\n",
    "    \"\"\" Return the truth vector for a given spectrum filename.\n",
    "    Constants KNOWN_QSOS and KNOWN_STARS must be loaded in memory.\n",
    "    parameters:\n",
    "        -filename: str, the path to the spectrum fits file\n",
    "    return:\n",
    "        -truth: array, [qso_prob, redshift]\n",
    "    \n",
    "    TODO: Implement redshift  retrieval from fits file or specobjid\n",
    "    \"\"\"\n",
    "    header = fitsio.read_header(filename)\n",
    "    spec4numbers = (header['PLATEID'], header['MJD'], header['FIBERID'], header['RUN2D'].strip())\n",
    "    specid = hash_specid(*spec4numbers)  # Compute specobjid hash \n",
    "    \n",
    "    if specid in KNOWN_QSOS:\n",
    "        return np.array([1., 0.])\n",
    "    \n",
    "    elif specid in KNOWN_STARS:\n",
    "        return np.array([0., 0.])\n",
    "    \n",
    "    else:\n",
    "        return None\n",
    "tell_the_truth('data/spectra1000/spec-4216-55477-0202.fits')\n",
    "\n",
    "# Final implementation can be found on the pipeline.py module"
   ]
  },
  {
   "cell_type": "code",
   "execution_count": 23,
   "metadata": {},
   "outputs": [],
   "source": [
    "from astropy.io import fits\n",
    "import os\n",
    "import tempfile\n",
    "import shutil"
   ]
  },
  {
   "cell_type": "code",
   "execution_count": 30,
   "metadata": {},
   "outputs": [
    {
     "name": "stdout",
     "output_type": "stream",
     "text": [
      "67M\tdata/spectra1000_ultralight/\n"
     ]
    }
   ],
   "source": [
    "def shrink_spectra(filepath):\n",
    "    \"\"\"\n",
    "    Remove unnecesary data from the spectral FITS file. All\n",
    "    the data needed is contained in the header and the\n",
    "    flux, loglam and ivar columns. This function\n",
    "    trims the original fits file and saves the lightweight\n",
    "    version in a {parent}_ultralight folder. Then deletes the original\n",
    "    file.\n",
    "    \"\"\"\n",
    "    pathlist = filepath.split('/')\n",
    "    newpath = '{}_ultralight/{}'.format('/'.join(pathlist[:-1]), pathlist[-1])\n",
    "    \n",
    "    temp = tempfile.NamedTemporaryFile(delete=False)\n",
    "    with fits.open(filepath) as hdul:\n",
    "        relevant_cols = hdul[1].data.columns[:3]\n",
    "        hdul[1].data = hdul[1].data.from_columns(relevant_cols)\n",
    "        hdul = hdul[:2]\n",
    "        hdul.writeto(temp)\n",
    "        \n",
    "    os.remove(filepath)\n",
    "    print('Removed ' + filepath)\n",
    "    shutil.move(temp.name, newpath)\n",
    "    print('Created ' + newpath)\n",
    "    temp.close()\n",
    "\n",
    "# from glob  import glob\n",
    "# filelist = glob('data/spectra1000/*.fits')\n",
    "# for spec in filelist:\n",
    "#     shrink_spectra(spec)\n",
    "# !ls data/spectra1000_ultralight/\n",
    "spt = Table.read('data/spectra1000_ultralight/spec-4216-55477-0202.fits')\n",
    "!du -h data/spectra1000_ultralight/"
   ]
  },
  {
   "cell_type": "markdown",
   "metadata": {},
   "source": [
    "The size of the data reduced from about 1.5 GB to 67 MB!!! I shall refactor this code into the pipeline"
   ]
  },
  {
   "cell_type": "code",
   "execution_count": 57,
   "metadata": {},
   "outputs": [
    {
     "name": "stdout",
     "output_type": "stream",
     "text": [
      "grep: ..........: No such file or directory\n",
      "grep: ..........: No such file or directory\n",
      "grep: ..........: No such file or directory\n",
      "grep: ..........: No such file or directory\n",
      "grep: ..........: No such file or directory\n",
      "grep: 70%: No such file or directory\n",
      "grep: 301K: No such file or directory\n",
      "grep: 0s: No such file or directory\n"
     ]
    }
   ],
   "source": [
    "!grep -n $(tail -n 3 data/star-lite/wget.log | head -n 1 |  awk -F \"/\" '{print $NF}') data/star_filelist.txt"
   ]
  },
  {
   "cell_type": "markdown",
   "metadata": {},
   "source": [
    "Draft  and testbed of ``shrink_star.py`` script:"
   ]
  },
  {
   "cell_type": "code",
   "execution_count": 1,
   "metadata": {},
   "outputs": [
    {
     "name": "stdout",
     "output_type": "stream",
     "text": [
      "Removed data/stars100/spec-3656-55241-0914.fits\n",
      "Created data/stars100_ultralight/spec-3656-55241-0914.fits\n",
      "Removed data/stars100/spec-3656-55241-0918.fits\n",
      "Created data/stars100_ultralight/spec-3656-55241-0918.fits\n",
      "Removed data/stars100/spec-3656-55241-0772.fits\n",
      "Created data/stars100_ultralight/spec-3656-55241-0772.fits\n",
      "Removed data/stars100/spec-3656-55241-0746.fits\n",
      "Created data/stars100_ultralight/spec-3656-55241-0746.fits\n",
      "Removed data/stars100/spec-3651-55247-0042.fits\n",
      "Created data/stars100_ultralight/spec-3651-55247-0042.fits\n",
      "Removed data/stars100/spec-3656-55241-0704.fits\n",
      "Created data/stars100_ultralight/spec-3656-55241-0704.fits\n",
      "Removed data/stars100/spec-3656-55241-0767.fits\n",
      "Created data/stars100_ultralight/spec-3656-55241-0767.fits\n",
      "Removed data/stars100/spec-3656-55241-0936.fits\n",
      "Created data/stars100_ultralight/spec-3656-55241-0936.fits\n",
      "Removed data/stars100/spec-3651-55247-0028.fits\n",
      "Created data/stars100_ultralight/spec-3651-55247-0028.fits\n",
      "Removed data/stars100/spec-3651-55247-0118.fits\n",
      "Created data/stars100_ultralight/spec-3651-55247-0118.fits\n",
      "Removed data/stars100/spec-3657-55244-0953.fits\n",
      "Created data/stars100_ultralight/spec-3657-55244-0953.fits\n",
      "Removed data/stars100/spec-3651-55247-0103.fits\n",
      "Created data/stars100_ultralight/spec-3651-55247-0103.fits\n",
      "Removed data/stars100/spec-3656-55241-0890.fits\n",
      "Created data/stars100_ultralight/spec-3656-55241-0890.fits\n",
      "Removed data/stars100/spec-3656-55241-0940.fits\n",
      "Created data/stars100_ultralight/spec-3656-55241-0940.fits\n",
      "Removed data/stars100/spec-3656-55241-0716.fits\n",
      "Created data/stars100_ultralight/spec-3656-55241-0716.fits\n",
      "Removed data/stars100/spec-3657-55244-0931.fits\n",
      "Created data/stars100_ultralight/spec-3657-55244-0931.fits\n",
      "Removed data/stars100/spec-3658-55205-0074.fits\n",
      "Created data/stars100_ultralight/spec-3658-55205-0074.fits\n",
      "Removed data/stars100/spec-3656-55241-0830.fits\n",
      "Created data/stars100_ultralight/spec-3656-55241-0830.fits\n",
      "Removed data/stars100/spec-3656-55241-0926.fits\n",
      "Created data/stars100_ultralight/spec-3656-55241-0926.fits\n",
      "Removed data/stars100/spec-3657-55244-0943.fits\n",
      "Created data/stars100_ultralight/spec-3657-55244-0943.fits\n",
      "Removed data/stars100/spec-3656-55241-0700.fits\n",
      "Created data/stars100_ultralight/spec-3656-55241-0700.fits\n",
      "Removed data/stars100/spec-3656-55241-0778.fits\n",
      "Created data/stars100_ultralight/spec-3656-55241-0778.fits\n",
      "Removed data/stars100/spec-3656-55241-0776.fits\n",
      "Created data/stars100_ultralight/spec-3656-55241-0776.fits\n",
      "Removed data/stars100/spec-3651-55247-0119.fits\n",
      "Created data/stars100_ultralight/spec-3651-55247-0119.fits\n",
      "Removed data/stars100/spec-3657-55244-0938.fits\n",
      "Created data/stars100_ultralight/spec-3657-55244-0938.fits\n",
      "Removed data/stars100/spec-3656-55241-0754.fits\n",
      "Created data/stars100_ultralight/spec-3656-55241-0754.fits\n",
      "Removed data/stars100/spec-3656-55241-0724.fits\n",
      "Created data/stars100_ultralight/spec-3656-55241-0724.fits\n",
      "Removed data/stars100/spec-3656-55241-0798.fits\n",
      "Created data/stars100_ultralight/spec-3656-55241-0798.fits\n",
      "Removed data/stars100/spec-3656-55241-0774.fits\n",
      "Created data/stars100_ultralight/spec-3656-55241-0774.fits\n",
      "Removed data/stars100/spec-3656-55241-0696.fits\n",
      "Created data/stars100_ultralight/spec-3656-55241-0696.fits\n",
      "Removed data/stars100/spec-3656-55241-0930.fits\n",
      "Created data/stars100_ultralight/spec-3656-55241-0930.fits\n",
      "Removed data/stars100/spec-3658-55205-0070.fits\n",
      "Created data/stars100_ultralight/spec-3658-55205-0070.fits\n",
      "Removed data/stars100/spec-3656-55241-0871.fits\n",
      "Created data/stars100_ultralight/spec-3656-55241-0871.fits\n",
      "Removed data/stars100/spec-3656-55241-0729.fits\n",
      "Created data/stars100_ultralight/spec-3656-55241-0729.fits\n",
      "Removed data/stars100/spec-3656-55241-0804.fits\n",
      "Created data/stars100_ultralight/spec-3656-55241-0804.fits\n",
      "Removed data/stars100/spec-3656-55241-0818.fits\n",
      "Created data/stars100_ultralight/spec-3656-55241-0818.fits\n",
      "Removed data/stars100/spec-3656-55241-0739.fits\n",
      "Created data/stars100_ultralight/spec-3656-55241-0739.fits\n",
      "Removed data/stars100/spec-3656-55241-0922.fits\n",
      "Created data/stars100_ultralight/spec-3656-55241-0922.fits\n",
      "Removed data/stars100/spec-3656-55241-0848.fits\n",
      "Created data/stars100_ultralight/spec-3656-55241-0848.fits\n",
      "Removed data/stars100/spec-3656-55241-0788.fits\n",
      "Created data/stars100_ultralight/spec-3656-55241-0788.fits\n",
      "Removed data/stars100/spec-3656-55241-0828.fits\n",
      "Created data/stars100_ultralight/spec-3656-55241-0828.fits\n",
      "Removed data/stars100/spec-3656-55241-0793.fits\n",
      "Created data/stars100_ultralight/spec-3656-55241-0793.fits\n",
      "Removed data/stars100/spec-3651-55247-0055.fits\n",
      "Created data/stars100_ultralight/spec-3651-55247-0055.fits\n",
      "Removed data/stars100/spec-3656-55241-0806.fits\n",
      "Created data/stars100_ultralight/spec-3656-55241-0806.fits\n",
      "Removed data/stars100/spec-3656-55241-0768.fits\n",
      "Created data/stars100_ultralight/spec-3656-55241-0768.fits\n",
      "Removed data/stars100/spec-3651-55247-0112.fits\n",
      "Created data/stars100_ultralight/spec-3651-55247-0112.fits\n",
      "Removed data/stars100/spec-3651-55247-0134.fits\n",
      "Created data/stars100_ultralight/spec-3651-55247-0134.fits\n",
      "Removed data/stars100/spec-3656-55241-0718.fits\n",
      "Created data/stars100_ultralight/spec-3656-55241-0718.fits\n",
      "Removed data/stars100/spec-3656-55241-0744.fits\n",
      "Created data/stars100_ultralight/spec-3656-55241-0744.fits\n",
      "Removed data/stars100/spec-3656-55241-0842.fits\n",
      "Created data/stars100_ultralight/spec-3656-55241-0842.fits\n",
      "Removed data/stars100/spec-3651-55247-0096.fits\n",
      "Created data/stars100_ultralight/spec-3651-55247-0096.fits\n",
      "Removed data/stars100/spec-3657-55244-0932.fits\n",
      "Created data/stars100_ultralight/spec-3657-55244-0932.fits\n",
      "Removed data/stars100/spec-3656-55241-0827.fits\n",
      "Created data/stars100_ultralight/spec-3656-55241-0827.fits\n",
      "Removed data/stars100/spec-3651-55247-0138.fits\n",
      "Created data/stars100_ultralight/spec-3651-55247-0138.fits\n",
      "Removed data/stars100/spec-3658-55205-0050.fits\n",
      "Created data/stars100_ultralight/spec-3658-55205-0050.fits\n",
      "Removed data/stars100/spec-3657-55244-0958.fits\n",
      "Created data/stars100_ultralight/spec-3657-55244-0958.fits\n",
      "Removed data/stars100/spec-3656-55241-0770.fits\n",
      "Created data/stars100_ultralight/spec-3656-55241-0770.fits\n",
      "Removed data/stars100/spec-3656-55241-0880.fits\n",
      "Created data/stars100_ultralight/spec-3656-55241-0880.fits\n",
      "Removed data/stars100/spec-3656-55241-0925.fits\n",
      "Created data/stars100_ultralight/spec-3656-55241-0925.fits\n",
      "Removed data/stars100/spec-3656-55241-0870.fits\n",
      "Created data/stars100_ultralight/spec-3656-55241-0870.fits\n",
      "Removed data/stars100/spec-3656-55241-0786.fits\n",
      "Created data/stars100_ultralight/spec-3656-55241-0786.fits\n",
      "Removed data/stars100/spec-3651-55247-0114.fits\n",
      "Created data/stars100_ultralight/spec-3651-55247-0114.fits\n",
      "Removed data/stars100/spec-3651-55247-0064.fits\n",
      "Created data/stars100_ultralight/spec-3651-55247-0064.fits\n",
      "Removed data/stars100/spec-3656-55241-0840.fits\n",
      "Created data/stars100_ultralight/spec-3656-55241-0840.fits\n",
      "Removed data/stars100/spec-3656-55241-0820.fits\n",
      "Created data/stars100_ultralight/spec-3656-55241-0820.fits\n",
      "Removed data/stars100/spec-3656-55241-0780.fits\n",
      "Created data/stars100_ultralight/spec-3656-55241-0780.fits\n",
      "Removed data/stars100/spec-3656-55241-0722.fits\n",
      "Created data/stars100_ultralight/spec-3656-55241-0722.fits\n",
      "Removed data/stars100/spec-3656-55241-0792.fits\n",
      "Created data/stars100_ultralight/spec-3656-55241-0792.fits\n",
      "Removed data/stars100/spec-3656-55241-0866.fits\n",
      "Created data/stars100_ultralight/spec-3656-55241-0866.fits\n",
      "Removed data/stars100/spec-3656-55241-0697.fits\n",
      "Created data/stars100_ultralight/spec-3656-55241-0697.fits\n",
      "Removed data/stars100/spec-3656-55241-0920.fits\n",
      "Created data/stars100_ultralight/spec-3656-55241-0920.fits\n",
      "Removed data/stars100/spec-3657-55244-0949.fits\n",
      "Created data/stars100_ultralight/spec-3657-55244-0949.fits\n",
      "Removed data/stars100/spec-3656-55241-0898.fits\n",
      "Created data/stars100_ultralight/spec-3656-55241-0898.fits\n",
      "Removed data/stars100/spec-3658-55205-0048.fits\n",
      "Created data/stars100_ultralight/spec-3658-55205-0048.fits\n",
      "Removed data/stars100/spec-3656-55241-0742.fits\n",
      "Created data/stars100_ultralight/spec-3656-55241-0742.fits\n",
      "Removed data/stars100/spec-3656-55241-0856.fits\n",
      "Created data/stars100_ultralight/spec-3656-55241-0856.fits\n",
      "Removed data/stars100/spec-3651-55247-0106.fits\n",
      "Created data/stars100_ultralight/spec-3651-55247-0106.fits\n",
      "Removed data/stars100/spec-3657-55244-0926.fits\n",
      "Created data/stars100_ultralight/spec-3657-55244-0926.fits\n",
      "Removed data/stars100/spec-3656-55241-0888.fits\n",
      "Created data/stars100_ultralight/spec-3656-55241-0888.fits\n",
      "Removed data/stars100/spec-3658-55205-0062.fits\n",
      "Created data/stars100_ultralight/spec-3658-55205-0062.fits\n",
      "Removed data/stars100/spec-3656-55241-0874.fits\n",
      "Created data/stars100_ultralight/spec-3656-55241-0874.fits\n",
      "Removed data/stars100/spec-3656-55241-0912.fits\n",
      "Created data/stars100_ultralight/spec-3656-55241-0912.fits\n",
      "Removed data/stars100/spec-3657-55244-0933.fits\n",
      "Created data/stars100_ultralight/spec-3657-55244-0933.fits\n",
      "Removed data/stars100/spec-3658-55205-0091.fits\n",
      "Created data/stars100_ultralight/spec-3658-55205-0091.fits\n",
      "Removed data/stars100/spec-3657-55244-0940.fits\n",
      "Created data/stars100_ultralight/spec-3657-55244-0940.fits\n",
      "Removed data/stars100/spec-3658-55205-0077.fits\n",
      "Created data/stars100_ultralight/spec-3658-55205-0077.fits\n",
      "Removed data/stars100/spec-3656-55241-0808.fits\n",
      "Created data/stars100_ultralight/spec-3656-55241-0808.fits\n",
      "Removed data/stars100/spec-3658-55205-0068.fits\n",
      "Created data/stars100_ultralight/spec-3658-55205-0068.fits\n",
      "Removed data/stars100/spec-3657-55244-0928.fits\n",
      "Created data/stars100_ultralight/spec-3657-55244-0928.fits\n",
      "Removed data/stars100/spec-3651-55247-0070.fits\n",
      "Created data/stars100_ultralight/spec-3651-55247-0070.fits\n",
      "Removed data/stars100/spec-3658-55205-0053.fits\n",
      "Created data/stars100_ultralight/spec-3658-55205-0053.fits\n",
      "Removed data/stars100/spec-3656-55241-0760.fits\n",
      "Created data/stars100_ultralight/spec-3656-55241-0760.fits\n",
      "Removed data/stars100/spec-3656-55241-0942.fits\n",
      "Created data/stars100_ultralight/spec-3656-55241-0942.fits\n",
      "Removed data/stars100/spec-3656-55241-0698.fits\n",
      "Created data/stars100_ultralight/spec-3656-55241-0698.fits\n",
      "Removed data/stars100/spec-3651-55247-0044.fits\n",
      "Created data/stars100_ultralight/spec-3651-55247-0044.fits\n",
      "Removed data/stars100/spec-3656-55241-0810.fits\n",
      "Created data/stars100_ultralight/spec-3656-55241-0810.fits\n",
      "Removed data/stars100/spec-3656-55241-0838.fits\n",
      "Created data/stars100_ultralight/spec-3656-55241-0838.fits\n",
      "Removed data/stars100/spec-3656-55241-0858.fits\n",
      "Created data/stars100_ultralight/spec-3656-55241-0858.fits\n",
      "Removed data/stars100/spec-3656-55241-0725.fits\n",
      "Created data/stars100_ultralight/spec-3656-55241-0725.fits\n",
      "Removed data/stars100/spec-3656-55241-0822.fits\n",
      "Created data/stars100_ultralight/spec-3656-55241-0822.fits\n"
     ]
    }
   ],
   "source": [
    "import pipeline as io\n",
    "from glob import glob\n",
    "\n",
    "filelist = glob('data/stars100/*.fits')\n",
    "\n",
    "for filename in filelist:\n",
    "    io.shrink_spectra(filename, delete=True)\n"
   ]
  },
  {
   "cell_type": "code",
   "execution_count": 37,
   "metadata": {},
   "outputs": [
    {
     "name": "stdout",
     "output_type": "stream",
     "text": [
      "318956\n"
     ]
    }
   ],
   "source": [
    "!ls data/star-lite |wc -l"
   ]
  },
  {
   "cell_type": "markdown",
   "metadata": {},
   "source": [
    "Some file processing went wrong with the ``shrink_star.py`` script, because of an annoying ``TypeError: buffer is too small for the requested array``"
   ]
  },
  {
   "cell_type": "code",
   "execution_count": 13,
   "metadata": {},
   "outputs": [],
   "source": [
    "with open('downloaded.txt', 'r') as d:\n",
    "    with open('total.txt', 'r') as t:\n",
    "        downs = d.readlines()\n",
    "        total = t.readlines()\n",
    "        targets = []\n",
    "        for spec  in total:\n",
    "            if spec not in downs:\n",
    "                targets.append(spec)\n",
    "\n",
    "print(len(targets))\n",
    "\n",
    "with open('targets.txt', 'w') as tfile:\n",
    "    for row in targets:\n",
    "        tfile.write(row)"
   ]
  },
  {
   "cell_type": "code",
   "execution_count": 42,
   "metadata": {},
   "outputs": [
    {
     "name": "stdout",
     "output_type": "stream",
     "text": [
      "Created data/star-lite_ultralight/spec-6022-56076-0256.fits\n"
     ]
    }
   ],
   "source": [
    "def shrink_spectra2(filepath, delete_source=False):\n",
    "    \"\"\"\n",
    "    Remove unnecesary data from the spectral FITS file. All\n",
    "    the data needed is contained in the header and the\n",
    "    flux, loglam and ivar columns. This function\n",
    "    trims the original fits file and saves the lightweight\n",
    "    version in a {parent}_ultralight folder. Then deletes the original\n",
    "    file.\n",
    "    \"\"\"\n",
    "    pathlist = filepath.split('/')\n",
    "    ultralight_parent  = '{}_ultralight'.format('/'.join(pathlist[:-1]))\n",
    "    \n",
    "    # Check if the target directory exists\n",
    "    if not os.path.exists(ultralight_parent):\n",
    "        os.mkdir(ultralight_parent)\n",
    "    \n",
    "    newpath = '/'.join([ultralight_parent, pathlist[-1]])\n",
    "    \n",
    "    temp = tempfile.NamedTemporaryFile(delete=False)\n",
    "    with fits.open(filepath) as hdul:\n",
    "        out_hdul = hdul.copy()\n",
    "        relevant_cols = hdul[1].data.columns[:3]\n",
    "        out_hdul[1].data = hdul[1].data.from_columns(relevant_cols)\n",
    "        out_hdul = hdul[:2]\n",
    "        out_hdul.writeto(temp)\n",
    "        \n",
    "    temp.close()\n",
    "\n",
    "io.shrink_spectra('data/star-lite/spec-6022-56076-0256.fits')"
   ]
  },
  {
   "cell_type": "code",
   "execution_count": 44,
   "metadata": {},
   "outputs": [
    {
     "name": "stdout",
     "output_type": "stream",
     "text": [
      "CPU times: user 3min 11s, sys: 31.7 s, total: 3min 43s\n",
      "Wall time: 4min 59s\n"
     ]
    }
   ],
   "source": [
    "%%time\n",
    "filelist = glob('data/star-lite_ultralight/*.fits')\n",
    "for file in filelist:\n",
    "    spec = fitsio.read(file, columns=['loglam', 'flux', 'ivar'])"
   ]
  },
  {
   "cell_type": "code",
   "execution_count": 38,
   "metadata": {},
   "outputs": [
    {
     "name": "stdout",
     "output_type": "stream",
     "text": [
      "207448\n"
     ]
    }
   ],
   "source": [
    "!cat downloaded.txt | wc -l"
   ]
  },
  {
   "cell_type": "code",
   "execution_count": 5,
   "metadata": {},
   "outputs": [
    {
     "name": "stdout",
     "output_type": "stream",
     "text": [
      "data/buggy_star/spec-3959-55679-0294.fits is defective, not processed\n"
     ]
    }
   ],
   "source": [
    "io.shrink_spectra('data/buggy_star/spec-3959-55679-0294.fits')"
   ]
  },
  {
   "cell_type": "markdown",
   "metadata": {},
   "source": [
    "Estimate how much memory will be necessary to hold the whole preprocessed dataset"
   ]
  },
  {
   "cell_type": "code",
   "execution_count": 2,
   "metadata": {},
   "outputs": [
    {
     "name": "stdout",
     "output_type": "stream",
     "text": [
      "Approximately 1.36 GB\n",
      "251698\n"
     ]
    }
   ],
   "source": [
    "# First, the total number of individual spectra\n",
    "total_stars = !cat data/dr15stars_boss_masolimano.csv | wc -l\n",
    "total_qsos = !cat data/filelist_boss_qsos.txt | wc -l\n",
    "total = int(total_qsos[0]) + int(total_stars[0])\n",
    "\n",
    "# Assume the spectra were reduced to 443 samples and each point has 32 bit precission (i.e 4 bytes)\n",
    "datapoints = total * 444 # +1 because the class is also included\n",
    "total_bytes = 4 * datapoints\n",
    "print('Approximately {:.2f} GB'.format(total_bytes / 1e9))\n",
    "print(int(total_qsos[0]) - 195171)"
   ]
  },
  {
   "cell_type": "markdown",
   "metadata": {},
   "source": [
    "Good news! I can fit the entire dataset in RAM :)"
   ]
  },
  {
   "cell_type": "code",
   "execution_count": 10,
   "metadata": {},
   "outputs": [
    {
     "name": "stdout",
     "output_type": "stream",
     "text": [
      "(318954, 433, 1) (318954, 2)\n"
     ]
    }
   ],
   "source": [
    "import h5py\n",
    "import numpy as np\n",
    "from keras.utils import to_categorical\n",
    "\n",
    "with h5py.File('data/reduced_starboss.h5', 'r') as sb:\n",
    "    starx = np.array(sb['fluxes']).reshape((318954, 433, 1))\n",
    "    stary = to_categorical(np.array(sb['classes']))\n",
    "print(starx.shape, stary.shape)"
   ]
  },
  {
   "cell_type": "code",
   "execution_count": 7,
   "metadata": {},
   "outputs": [
    {
     "name": "stderr",
     "output_type": "stream",
     "text": [
      "WARNING: hdu= was not specified but multiple tables are present, reading in first available table (hdu=1) [astropy.io.fits.connect]\n"
     ]
    },
    {
     "data": {
      "text/html": [
       "<i>Table length=4606</i>\n",
       "<table id=\"table140031376856456\" class=\"table-striped table-bordered table-condensed\">\n",
       "<thead><tr><th>flux</th><th>loglam</th><th>ivar</th><th>and_mask</th><th>or_mask</th><th>wdisp</th><th>sky</th><th>model</th></tr></thead>\n",
       "<thead><tr><th>float32</th><th>float32</th><th>float32</th><th>int32</th><th>int32</th><th>float32</th><th>float32</th><th>float32</th></tr></thead>\n",
       "<tr><td>1.4152076</td><td>3.5534</td><td>0.05591349</td><td>0</td><td>67108864</td><td>1.3110504</td><td>3.223751</td><td>0.3012146</td></tr>\n",
       "<tr><td>0.9344601</td><td>3.5535</td><td>0.0</td><td>0</td><td>0</td><td>1.3101829</td><td>3.890918</td><td>0.29636222</td></tr>\n",
       "<tr><td>0.4541606</td><td>3.5536</td><td>0.083260775</td><td>0</td><td>0</td><td>1.3103548</td><td>3.571145</td><td>0.30406478</td></tr>\n",
       "<tr><td>4.976143</td><td>3.5537</td><td>0.0831934</td><td>0</td><td>0</td><td>1.3105942</td><td>3.1008766</td><td>0.28499916</td></tr>\n",
       "<tr><td>0.41823903</td><td>3.5538</td><td>0.09293095</td><td>0</td><td>0</td><td>1.3108124</td><td>2.8018386</td><td>0.31517273</td></tr>\n",
       "<tr><td>-3.7580874</td><td>3.5539</td><td>0.107790366</td><td>0</td><td>0</td><td>1.311272</td><td>2.5004487</td><td>0.30912212</td></tr>\n",
       "<tr><td>-3.5846882</td><td>3.554</td><td>0.110339716</td><td>0</td><td>0</td><td>1.3114861</td><td>2.3198285</td><td>0.28435948</td></tr>\n",
       "<tr><td>-0.37819386</td><td>3.5541</td><td>0.1012089</td><td>0</td><td>0</td><td>1.3115548</td><td>2.1394417</td><td>0.30025458</td></tr>\n",
       "<tr><td>4.324026</td><td>3.5542</td><td>0.10150996</td><td>0</td><td>0</td><td>1.3118289</td><td>1.8733454</td><td>0.3016837</td></tr>\n",
       "<tr><td>-4.423096</td><td>3.5543</td><td>0.10690659</td><td>0</td><td>0</td><td>1.3121403</td><td>1.6668357</td><td>0.3121465</td></tr>\n",
       "<tr><td>...</td><td>...</td><td>...</td><td>...</td><td>...</td><td>...</td><td>...</td><td>...</td></tr>\n",
       "<tr><td>2.6628182</td><td>4.013</td><td>0.1873191</td><td>0</td><td>0</td><td>0.80928177</td><td>8.914103</td><td>0.83068496</td></tr>\n",
       "<tr><td>1.7295518</td><td>4.0131</td><td>0.15083653</td><td>0</td><td>0</td><td>0.8095963</td><td>7.573278</td><td>0.84998006</td></tr>\n",
       "<tr><td>1.3333718</td><td>4.0132</td><td>0.15294382</td><td>0</td><td>134217728</td><td>0.81015164</td><td>19.986183</td><td>0.8166706</td></tr>\n",
       "<tr><td>10.776522</td><td>4.0133</td><td>0.13420582</td><td>0</td><td>134217728</td><td>0.81059194</td><td>20.599812</td><td>0.7980501</td></tr>\n",
       "<tr><td>8.810949</td><td>4.0134</td><td>0.1216359</td><td>0</td><td>134217728</td><td>0.81108093</td><td>17.30294</td><td>0.7990761</td></tr>\n",
       "<tr><td>-5.9058027</td><td>4.0135</td><td>0.108284846</td><td>0</td><td>134742016</td><td>0.81125695</td><td>13.97299</td><td>0.82036936</td></tr>\n",
       "<tr><td>-2.726906</td><td>4.0136</td><td>0.06405313</td><td>0</td><td>524288</td><td>0.8114291</td><td>9.491904</td><td>0.84068024</td></tr>\n",
       "<tr><td>3.4147449</td><td>4.0137</td><td>0.11428154</td><td>0</td><td>0</td><td>0.811711</td><td>1.8754536</td><td>0.8240488</td></tr>\n",
       "<tr><td>3.5120447</td><td>4.0138</td><td>0.15119208</td><td>0</td><td>0</td><td>0.8123213</td><td>-0.7025636</td><td>0.81333035</td></tr>\n",
       "<tr><td>6.0938115</td><td>4.0139</td><td>0.12669833</td><td>0</td><td>0</td><td>0.81264526</td><td>1.1108084</td><td>0.83679</td></tr>\n",
       "</table>"
      ],
      "text/plain": [
       "<Table length=4606>\n",
       "    flux     loglam     ivar    and_mask ...   wdisp       sky       model   \n",
       "  float32   float32   float32    int32   ...  float32    float32    float32  \n",
       "----------- ------- ----------- -------- ... ---------- ---------- ----------\n",
       "  1.4152076  3.5534  0.05591349        0 ...  1.3110504   3.223751  0.3012146\n",
       "  0.9344601  3.5535         0.0        0 ...  1.3101829   3.890918 0.29636222\n",
       "  0.4541606  3.5536 0.083260775        0 ...  1.3103548   3.571145 0.30406478\n",
       "   4.976143  3.5537   0.0831934        0 ...  1.3105942  3.1008766 0.28499916\n",
       " 0.41823903  3.5538  0.09293095        0 ...  1.3108124  2.8018386 0.31517273\n",
       " -3.7580874  3.5539 0.107790366        0 ...   1.311272  2.5004487 0.30912212\n",
       " -3.5846882   3.554 0.110339716        0 ...  1.3114861  2.3198285 0.28435948\n",
       "-0.37819386  3.5541   0.1012089        0 ...  1.3115548  2.1394417 0.30025458\n",
       "   4.324026  3.5542  0.10150996        0 ...  1.3118289  1.8733454  0.3016837\n",
       "  -4.423096  3.5543  0.10690659        0 ...  1.3121403  1.6668357  0.3121465\n",
       "        ...     ...         ...      ... ...        ...        ...        ...\n",
       "  2.6628182   4.013   0.1873191        0 ... 0.80928177   8.914103 0.83068496\n",
       "  1.7295518  4.0131  0.15083653        0 ...  0.8095963   7.573278 0.84998006\n",
       "  1.3333718  4.0132  0.15294382        0 ... 0.81015164  19.986183  0.8166706\n",
       "  10.776522  4.0133  0.13420582        0 ... 0.81059194  20.599812  0.7980501\n",
       "   8.810949  4.0134   0.1216359        0 ... 0.81108093   17.30294  0.7990761\n",
       " -5.9058027  4.0135 0.108284846        0 ... 0.81125695   13.97299 0.82036936\n",
       "  -2.726906  4.0136  0.06405313        0 ...  0.8114291   9.491904 0.84068024\n",
       "  3.4147449  4.0137  0.11428154        0 ...   0.811711  1.8754536  0.8240488\n",
       "  3.5120447  4.0138  0.15119208        0 ...  0.8123213 -0.7025636 0.81333035\n",
       "  6.0938115  4.0139  0.12669833        0 ... 0.81264526  1.1108084    0.83679"
      ]
     },
     "execution_count": 7,
     "metadata": {},
     "output_type": "execute_result"
    }
   ],
   "source": [
    "spec = Table.read('data/quasarboss/spec-10000-57346-0002.fits')\n",
    "spec"
   ]
  },
  {
   "cell_type": "code",
   "execution_count": 5,
   "metadata": {},
   "outputs": [
    {
     "name": "stdout",
     "output_type": "stream",
     "text": [
      "spec-10000-57346-0002.fits\n",
      "spec-10000-57346-0008.fits\n",
      "spec-10000-57346-0010.fits\n",
      "spec-10000-57346-0019.fits\n",
      "spec-10000-57346-0022.fits\n",
      "spec-10000-57346-0092.fits\n",
      "spec-10000-57346-0097.fits\n",
      "spec-10000-57346-0101.fits\n",
      "spec-10000-57346-0139.fits\n",
      "spec-10000-57346-0147.fits\n",
      "ls: write error: Broken pipe\n"
     ]
    }
   ],
   "source": [
    "! ls data/quasarboss/ | head"
   ]
  },
  {
   "cell_type": "code",
   "execution_count": null,
   "metadata": {},
   "outputs": [],
   "source": []
  }
 ],
 "metadata": {
  "kernelspec": {
   "display_name": "Python 3",
   "language": "python",
   "name": "python3"
  },
  "language_info": {
   "codemirror_mode": {
    "name": "ipython",
    "version": 3
   },
   "file_extension": ".py",
   "mimetype": "text/x-python",
   "name": "python",
   "nbconvert_exporter": "python",
   "pygments_lexer": "ipython3",
   "version": "3.6.7"
  }
 },
 "nbformat": 4,
 "nbformat_minor": 2
}
