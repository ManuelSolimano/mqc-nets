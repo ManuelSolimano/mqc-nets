{
 "cells": [
  {
   "cell_type": "markdown",
   "metadata": {},
   "source": [
    "# Apuntes\n",
    "\n",
    "## Lecturas\n",
    "1. [Padovani et al. (2017) Active galactic nuclei: What's in a name?](http://adsabs.harvard.edu/abs/arXiv:1707.07134)\n",
    "2. [Hickox and Alexander (2018) Obscured active galactic nueclei (review) ](https://ui.adsabs.harvard.edu/#abs/arXiv:1806.04680)\n",
    "3. [Yeche et al. (2010) Artificial neural networks for quasar selection and photometric redshift determination](http://adsabs.harvard.edu/abs/2010A%26A...523A..14Y)\n",
    "4. [Pasquet-Itam and Pasquet (2018) Deep learning approach for classifying, detecting and predicting photometric redshifts of quasars in the Sloan Digital Sky Survey stripe 82](http://adsabs.harvard.edu/abs/2017arXiv171202777P)\n",
    "5. [Busca and Balland (2018) QuasarNET: Human-level spectral classification and redshifting with Deep Neural Networks](https://arxiv.org/abs/1808.09955)\n",
    "6. [Domingos, P (2012) A few useful things to know about machine learning ](https://dl.acm.org/citation.cfm?id=234775)\n",
    "7. [Nielsen M. (2015) Neural Networks and Deep Learning](http://neuralnetworksanddeeplearning.com)"
   ]
  },
  {
   "cell_type": "markdown",
   "metadata": {},
   "source": [
    "## Glosario\n",
    "\n",
    "* AGN: Núcleo galáctico activo. Región central de una galaxia que emite grandes cantidades de radiación producto de la acreción de materia hacia un agujero negro supermasivo.\n",
    "* Cuásar: Originalmente \"fuentes de radio casi-estelares\" son AGN muy brillantes que se observan como fuentes puntuales en el cielo. Pueden observarse en redshifts muy altos (hasta la fecha $z \\sim 7.1$). Ya no se requiere detección en radio para clasificarlos como cuásares.\n",
    "* SED: energía versus frecuencia o longitud de onda.\n",
    "* QLF: Función de luminosidad de cuásares. Distribución de densidad de cuásares por volumen co-móvil en el universo como función de su luminosidad intrínseca y su redshift.\n",
    "* PSD: densidad de poder espectral, definida como la amplitud al cuadrado del flujo, es una medida del la variabilidad de una fuente.\n",
    "* PLO\n",
    "* IGM\n",
    "* BAO"
   ]
  },
  {
   "cell_type": "markdown",
   "metadata": {},
   "source": [
    "### Active Galactic Nuclei: what's in a name?\n",
    "Este artículo presenta una revisión del estado del arte (hasta el 2017) del entendimiento de los AGN desde el punto de vista observacional en todas las frecuencias del espectro electromagnético.\n",
    "\n",
    "Los AGN emiten más radiación que los núcleos de galaxias normales. Este componente extra no está relacionado con la fusión nuclear de las estrellas, sino a la presencia de un agujero negro supermasivo ($\\geq 10^6 M_\\odot$) que \"acreta\" el gas circundante.\n",
    "\n",
    "Se mencionan las principales propiedades observables de los AGN:\n",
    "1. Luminosidades muy altas, pueden ser detectados hasta redshift muy altos.\n",
    "2. Las regiones emisoras son pequeñas en la mayoría de las bandas (del orden de miliparsecs), como se infiere de su rápida variabilidad.\n",
    "3. Fuerte evolución de su función de luminosidad.\n",
    "4. Emisión detectable en todo el EM.\n",
    "\n",
    "Existen una gran variedad de clasificaciones fenomenológicas de AGN. En el artículo se listan casi 50 tipos distintos de objetos. Sin embargo, se espera que las diferencias entre estas clasificaciones responda a cambios en un número pequeño de parámetros, como la orientación, la tasa de acreción, la presencia de jets y posiblemente el ambiente de la galaxia huésped. Por eso un modelo unificado sería útil para entender la física de los AGN y el rol que juegan en la evolución de galaxias.\n",
    "\n",
    "En seguida se explora el cuadro observacional que presentan los AGN seleccionados en cada una de las zonas del espectro: radio, infrarrojo, óptico/UV, rayos X y rayos gamma. Además, se consideran los AGN seleccionados por su variabilidad. Para efectos de este trabajo nos interesa principalmente la banda óptica.\n",
    "\n",
    "#### AGN seleccionados en el óptico/ultravioleta\n",
    "Los sondeos ópticos son capaces de identificar  cuantitativamente más AGNs que en otras longitudes de onda, pero usualmente están sesgados hacia fuentes brillantes  y no oscurecidas (cuásares). A pesar de ese sesgo, el contenido de información en las fuentes ópticas que sí son identificadas es muy alto.\n",
    "\n",
    "La fotometría de banda ancha es sensible a la presencia de lineas de emisión anchas en varios filtros como función del redshift ya que alteran los colores típicos de un AGN y los separan del locus estelar (en diagramas color-color). La fotometría de banda angosta por otro lado, permite usar características espectrales no solo para identificar AGN sino también para estimar su redshift. Pero la espectroscopía óptica es la que tiene la última palabra tanto para confirmar que se trate de un AGN como para determinar su redshift.\n",
    "\n",
    "Un problema de la banda óptica comparada com los rayos X duros es que las fuentes ópticas brillantes no son necesariamente AGN. Hay mucha contaminación estelar. Es más, ya que los cuasáres luminosos son fuentes puntuales pero están superados en núpero por las estrellas de nuestra galaxia es muy difícil crear una muestra  completa de cuásares a ciertos redshit. Es decir, existen \"agujeros\" en rangos de redshift que están muy contaminados por las estrellas.\n",
    "\n",
    "En cuanto a los AGN  de baja luminosidad, son un desafío para los sondeos fotométricos ópticos (como DES o LSST) ya que sin espectroscopía es muy difícil distingir una galaxia normal de una activa. Además estudiar la variabilidad puede no ser de mucha ayuda para tales fuentes considerando que, mientras la amplitud de la variabilidad aumenta a menores luminosida de, la emisión óptica del motor central disminuye.\n",
    "\n",
    "Como se menciona más arriba, el contenido de información en el continuo óptico, las lineas de emisión y las líneas de absorción es muy alto. Por ejemplo, el estudio de AGNs con líneas anchas de absorción ha evidenciado la presencia de vientos de material con velocidades de decenas de kilómetros por segundo. Además, la espectroscopía óptica provee información adicional para estimar las masas de los agujeros negros que dan poder a los cuásares.\n",
    "\n",
    "Por último las observaciones en el óptico permiten estimar la QLF (función de luminosidad de cuásares). La mejor estimación que existe actualmente proviene de los datos del SDSS, que sabemos está sesgada hacia el lado luminoso de la distribución de AGNs. Conocer la QLF tiene importancia en cosmología ya que daría información sobre la reionización del universo temprano.\n",
    "\n",
    "#### AGN seleccionados por variabilidad\n",
    "La variabilidad de la radiación en todas las frecuencias ha sido reconocida como una de las características principales de los AGN. Por lo tanto sirve como herramienta diagnóstica.\n",
    "\n",
    "La variabilidad del flujo es errática, aperiódica y se extiende en un rango extenso de escalas temporales (de minutos a años).\n",
    "La densidad de poder espectral (PSD) depende fuertemente de la banda de frecuencias.Por ejemplo, en rayos X la variabilidad observada es mucho más rápida que en el óptico. La escala de tiempos mínima medida en una banda dada provee una  estimación de l tamaño del componente de la fuente que está emitiendo en esa banda. Por eso se deduce que la emisión en rayos X proviene de la zona interior del disco de acreción mientras que la emisión en el óptico proviene de zonas más externas. \n",
    "\n",
    "El estudio de la variabilidad en el óptico/UV es difícil debido a que el muestreo de las observaciones terrestres es escaso e irregular. Sin embargo, el uso de datos de observatorios espaciales (como Kepler y Swift) ha permitido estudios más detallados. Uno de los descubrimientos más importantes en el entendimiento de la variabilidad óptica fue la detección de desfases entre longitudes de onda más largas respecto a las más cortas en escalas de tiempo de días o menores. La explicación actual considera un reprocesamiento de los rayos X en el disco.\n",
    "\n",
    "A pesar de que los rayos X sean los más adecuados para identificar AGN de acuerdo a su variabilidad, algunos sondeos ópticos como el ZTF o el LSST sondearán las fuentes variables en áreas mucho mayores que las que actualmente los observatorios de rayos X pueden observar."
   ]
  },
  {
   "cell_type": "markdown",
   "metadata": {},
   "source": [
    "### Artificial neural networks for quasar selection and redshift determination\n",
    "\n",
    "La motivación de este paper se encuentra en el hecho de que la selección de cuasáres en altos redshift no solo es útil para estudiar esa población de AGNs, sino también para estudiar los absorbedores en el medio intergaláctico. En particuar se ha encontrado que los efectos de las oscilaciones acústicas barónicas (BAO) se pueden detectar en el \"bosque Lyman-$\\alpha$\". Por eso, el objetivo de este trabajo es clasificar cuásares y PLOs en una muestra del SDSS-DR7, además de estimar sus redshift. Para ello utilizan redes neuronales artificiales usando una arquitectura de Multilayer Perceptron.\n",
    "\n",
    "Para entrenar la primera red, se seleccionaron 30000 PLOs, es decir, objetos puntuales que se sabe que no son cuásares. La mitad de esa muestra se usó como set de entrenamiento y la otra mitad como set de testeo. Además, se usó una lista de 122818 cuásares confirmados por espectroscopía obtenidos los catálogos 2QZ, SDSS-2dF LRG, 2SLAQ y SDSS-DR7. Estos cuásares tienen redshifts en el rango $0.05 \\leq z \\leq 5.0$ y magnitudes $g$ in el rango $18 \\leq g \\leq 22$. No obstante, se realizó un corte en el redshift y se incluyeron solamente aquellos cuásares con $z > 2.2$. Luego la muestra de cuásares confirmados posee 33918 elementos, la mitad de ellos fueron usados para el entrenamiento y la otra mitad para el testeo.\n",
    "\n",
    "Tras un análisis preliminar se determinó que las carácteristicas que se usarían para alimentar la red son los cuatro colores usuales (u-g, g-r, r-i, i-z) además de la magnitud  $g$  y los errores para las cinco bandas. Es decir, el vector de características tiene 10 dimensiones.\n",
    "\n",
    "La arquitectura propuesta consta de cuatro capas de neuronas sigmoidales. La capa de entrada, la capa de salida y dos capas ocultas.  La capa de entrada tiene 10 neuronas mientras que la capa de salida tiene solo una neurona, cuyo output sería 0 para si el objeto no es un cuásar o 1 si el objeto sí es un cuásar. La función objetivo es la función de coste cuadrático y el algoritmo de optimización es el descenso estocástico del gradiente. Además, para reducir el \"overfitting\" se implementó una detención temprana de acuerdo a la función objetivo evaluada en el set de testeo. Es decir, el set de testeo fue utilizado también como set de validación."
   ]
  },
  {
   "cell_type": "code",
   "execution_count": null,
   "metadata": {},
   "outputs": [],
   "source": []
  }
 ],
 "metadata": {
  "kernelspec": {
   "display_name": "Python 3",
   "language": "python",
   "name": "python3"
  },
  "language_info": {
   "codemirror_mode": {
    "name": "ipython",
    "version": 3
   },
   "file_extension": ".py",
   "mimetype": "text/x-python",
   "name": "python",
   "nbconvert_exporter": "python",
   "pygments_lexer": "ipython3",
   "version": "3.7.1"
  }
 },
 "nbformat": 4,
 "nbformat_minor": 2
}
