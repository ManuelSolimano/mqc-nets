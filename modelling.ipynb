{
 "cells": [
  {
   "cell_type": "markdown",
   "metadata": {},
   "source": [
    "# Modelling a neural network\n",
    "The point of this session is to become familiar with Keras and start doing some experiments"
   ]
  },
  {
   "cell_type": "code",
   "execution_count": 2,
   "metadata": {},
   "outputs": [],
   "source": [
    "import numpy as np\n",
    "import pipeline as io\n",
    "import keras\n",
    "import matplotlib.pyplot as plt\n",
    "%matplotlib inline"
   ]
  },
  {
   "cell_type": "markdown",
   "metadata": {},
   "source": [
    "### Dummy dataset to check input dimensions and formats"
   ]
  },
  {
   "cell_type": "code",
   "execution_count": 3,
   "metadata": {},
   "outputs": [
    {
     "name": "stdout",
     "output_type": "stream",
     "text": [
      "Epoch 1/5\n",
      "100/100 [==============================] - 0s 2ms/step - loss: 0.7113\n",
      "Epoch 2/5\n",
      "100/100 [==============================] - 0s 710us/step - loss: 0.4519\n",
      "Epoch 3/5\n",
      "100/100 [==============================] - 0s 712us/step - loss: 0.1995\n",
      "Epoch 4/5\n",
      "100/100 [==============================] - 0s 739us/step - loss: 0.0607\n",
      "Epoch 5/5\n",
      "100/100 [==============================] - 0s 955us/step - loss: 0.0194\n",
      "100/100 [==============================] - 0s 592us/step\n",
      "1.092011752128601\n"
     ]
    }
   ],
   "source": [
    "from keras.layers import Input, Dense, Conv1D, Dropout\n",
    "from keras.activations import  softmax, relu, sigmoid\n",
    "from keras.models import Model, Sequential\n",
    "\n",
    "# Simulate dataset\n",
    "# only 100 spectra\n",
    "x_train = np.random.normal(size=(100, 503,1))\n",
    "y_train = np.random.randint(0, 2, (100,1,))\n",
    "y_train = keras.utils.to_categorical(y_train)\n",
    "\n",
    "x_test = np.random.normal(size=(100, 503,1))\n",
    "y_test = np.random.randint(0, 2, (100,1,))\n",
    "y_test = keras.utils.to_categorical(y_test, num_classes=2)\n",
    "\n",
    "train_data = (x_train, y_train)\n",
    "test_data = (x_test, y_test)\n",
    "\n",
    "model = Sequential()\n",
    "model.add(Conv1D(filters=15, kernel_size=11,\n",
    "                 strides=1, activation='relu',\n",
    "                input_shape=(503,1)))\n",
    "\n",
    "model.add(Conv1D(filters=15, kernel_size=9, \n",
    "                 strides=1, activation='relu'))\n",
    "\n",
    "model.add(keras.layers.Flatten())\n",
    "model.add(Dense(2, activation='softmax'))\n",
    "\n",
    "model.compile(loss=keras.losses.categorical_crossentropy,\n",
    "              optimizer=keras.optimizers.SGD(lr=0.01, momentum=0.9, nesterov=True))\n",
    "model.fit(x_train, y_train, epochs=5, batch_size=10)\n",
    "score = model.evaluate(x_test, y_test, batch_size=16)\n",
    "print(score)"
   ]
  },
  {
   "cell_type": "markdown",
   "metadata": {},
   "source": [
    "----\n",
    "Check on how to save the dataset to a HDF5 file "
   ]
  },
  {
   "cell_type": "code",
   "execution_count": 6,
   "metadata": {},
   "outputs": [],
   "source": [
    "import h5py\n",
    "loglam = np.linspace(3.56, 4.01 , 503, endpoint=True)\n",
    "flux = np.random.normal(size=(100,503))\n",
    "y = np.random.randint(0,2, size=(100,1))\n",
    "with h5py.File('test.h5', 'w') as f:\n",
    "    X_dset = f.create_dataset('fluxes', (100, 503), dtype='f')\n",
    "    X_dset[:] = flux\n",
    "    Y_dset = f.create_dataset('classes', (100, 1), dtype='f')\n",
    "    Y_dset[:]  = y\n"
   ]
  },
  {
   "cell_type": "code",
   "execution_count": 9,
   "metadata": {},
   "outputs": [
    {
     "data": {
      "text/plain": [
       "(100, 503)"
      ]
     },
     "execution_count": 9,
     "metadata": {},
     "output_type": "execute_result"
    }
   ],
   "source": [
    "h = h5py.File('test.h5', 'r')\n",
    "h['fluxes'].shape"
   ]
  },
  {
   "cell_type": "code",
   "execution_count": 8,
   "metadata": {},
   "outputs": [
    {
     "name": "stdout",
     "output_type": "stream",
     "text": [
      "(15, 503, 1)\n"
     ]
    }
   ],
   "source": [
    "data = np.random.normal(size=(100, 503,1))\n",
    "labels = keras.utils.to_categorical(np.random.randint(0, 2, (100,1,)))\n",
    "\n",
    "from sklearn.model_selection import train_test_split\n",
    "\n",
    "data_train, data_test, labels_train, labels_test = train_test_split(data, labels, test_size=0.3)\n",
    "data_test, data_val, labels_test, labels_val = train_test_split(data_test, labels_test, test_size=0.5)\n",
    "print(data_val.shape)"
   ]
  },
  {
   "cell_type": "code",
   "execution_count": 7,
   "metadata": {},
   "outputs": [
    {
     "data": {
      "text/plain": [
       "(20, 2)"
      ]
     },
     "execution_count": 7,
     "metadata": {},
     "output_type": "execute_result"
    }
   ],
   "source": []
  },
  {
   "cell_type": "code",
   "execution_count": null,
   "metadata": {},
   "outputs": [],
   "source": []
  }
 ],
 "metadata": {
  "kernelspec": {
   "display_name": "Python 3",
   "language": "python",
   "name": "python3"
  },
  "language_info": {
   "codemirror_mode": {
    "name": "ipython",
    "version": 3
   },
   "file_extension": ".py",
   "mimetype": "text/x-python",
   "name": "python",
   "nbconvert_exporter": "python",
   "pygments_lexer": "ipython3",
   "version": "3.6.7"
  }
 },
 "nbformat": 4,
 "nbformat_minor": 2
}
