{
 "cells": [
  {
   "cell_type": "markdown",
   "metadata": {},
   "source": [
    "# Apuntes\n",
    "\n",
    "Lecturas\n",
    "1. [Padovani et al. (2017) Active galactic nuclei: What's in a name?](http://adsabs.harvard.edu/abs/arXiv:1707.07134)\n",
    "2. [Hickox and Alexander (2018) Obscured active galactic nueclei (review) ](https://ui.adsabs.harvard.edu/#abs/arXiv:1806.04680)\n",
    "3. [Yeche et al. (2010) Artificial neural networks for quasar selection and photometric redshift determination](http://adsabs.harvard.edu/abs/2010A%26A...523A..14Y)\n",
    "4. [Pasquet-Itam and Pasquet (2018) Deep learning approach for classifying, detecting and predicting photometric redshifts of quasars in the Sloan Digital Sky Survey stripe 82](http://adsabs.harvard.edu/abs/2017arXiv171202777P)\n",
    "5. [Busca and Balland (2018) QuasarNET: Human-level spectral classification and redshifting with Deep Neural Networks](https://arxiv.org/abs/1808.09955)\n",
    "6. [Domingos, P (2012) A few useful things to know about machine learning ](https://dl.acm.org/citation.cfm?id=234775)\n",
    "7. [Nielsen M. (2015) Neural Networks and Deep Learning](http://neuralnetworksanddeeplearning.com)"
   ]
  },
  {
   "cell_type": "markdown",
   "metadata": {},
   "source": [
    "## Glosario\n",
    "\n",
    "* AGN: Núcleo galáctico activo. Región central de una galaxia que emite grandes cantidades de radiación producto de la acreción de materia hacia un agujero negro supermasivo.\n",
    "* Cuásar: Originalmente \"fuentes de radio casi-estelares\" son AGN muy brillantes que se observan como fuentes puntuales en el cielo. Pueden observarse en redshifts muy altos (hasta la fecha $z \\sim 7.1$). Ya no se requiere detección en radio para clasificarlos como cuásares.\n",
    "* SED: energía versus frecuencia o longitud de onda.\n",
    "* "
   ]
  },
  {
   "cell_type": "code",
   "execution_count": null,
   "metadata": {},
   "outputs": [],
   "source": []
  }
 ],
 "metadata": {
  "kernelspec": {
   "display_name": "Python 3",
   "language": "python",
   "name": "python3"
  },
  "language_info": {
   "codemirror_mode": {
    "name": "ipython",
    "version": 3
   },
   "file_extension": ".py",
   "mimetype": "text/x-python",
   "name": "python",
   "nbconvert_exporter": "python",
   "pygments_lexer": "ipython3",
   "version": "3.7.1"
  }
 },
 "nbformat": 4,
 "nbformat_minor": 2
}
